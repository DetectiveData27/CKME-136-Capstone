{
 "cells": [
  {
   "cell_type": "code",
   "execution_count": 14,
   "metadata": {},
   "outputs": [
    {
     "data": {
      "application/javascript": [
       "IPython.OutputArea.auto_scroll_threshold = 9999;\n"
      ],
      "text/plain": [
       "<IPython.core.display.Javascript object>"
      ]
     },
     "metadata": {},
     "output_type": "display_data"
    }
   ],
   "source": [
    "%%javascript\n",
    "IPython.OutputArea.auto_scroll_threshold = 9999;"
   ]
  },
  {
   "cell_type": "code",
   "execution_count": 6,
   "metadata": {},
   "outputs": [],
   "source": [
    "#Importing Important Libraries\n",
    "import pandas as pd\n",
    "import numpy as np\n",
    "import matplotlib.pyplot as plt\n",
    "import seaborn as sns\n",
    "from datetime import datetime\n",
    "import gensim\n",
    "from nltk.tokenize import word_tokenize\n",
    "from nltk.corpus import stopwords"
   ]
  },
  {
   "cell_type": "code",
   "execution_count": 15,
   "metadata": {},
   "outputs": [],
   "source": [
    "pd.set_option('display.max_rows', None)\n",
    "pd.set_option('display.max_columns', None)\n",
    "pd.set_option('display.width', None)\n",
    "pd.set_option('display.max_colwidth', -1)"
   ]
  },
  {
   "cell_type": "code",
   "execution_count": 16,
   "metadata": {},
   "outputs": [],
   "source": [
    "#Functions to process Date,Year and Month\n",
    "def to_date(val):\n",
    "    return datetime.strptime( str(val),'%Y-%m-%d %H:%M:%S+00:00')\n",
    "def to_year(val):\n",
    "    return val.strftime('%Y')\n",
    "def to_yr_mon(val):\n",
    "    return val.strftime('%Y-%m')"
   ]
  },
  {
   "cell_type": "markdown",
   "metadata": {},
   "source": [
    "Answers DataFrame"
   ]
  },
  {
   "cell_type": "code",
   "execution_count": 17,
   "metadata": {},
   "outputs": [],
   "source": [
    "answers = pd.read_csv(r\"C:\\Users\\meril\\Desktop\\Capstone\\answers.csv\")"
   ]
  },
  {
   "cell_type": "code",
   "execution_count": 18,
   "metadata": {},
   "outputs": [
    {
     "name": "stdout",
     "output_type": "stream",
     "text": [
      "<class 'pandas.core.frame.DataFrame'>\n",
      "RangeIndex: 51123 entries, 0 to 51122\n",
      "Data columns (total 5 columns):\n",
      "answers_id             51123 non-null object\n",
      "answers_author_id      51123 non-null object\n",
      "answers_question_id    51123 non-null object\n",
      "answers_date_added     51123 non-null object\n",
      "answers_body           51122 non-null object\n",
      "dtypes: object(5)\n",
      "memory usage: 2.0+ MB\n"
     ]
    }
   ],
   "source": [
    "answers.info()"
   ]
  },
  {
   "cell_type": "code",
   "execution_count": 19,
   "metadata": {},
   "outputs": [
    {
     "data": {
      "text/html": [
       "<div>\n",
       "<style scoped>\n",
       "    .dataframe tbody tr th:only-of-type {\n",
       "        vertical-align: middle;\n",
       "    }\n",
       "\n",
       "    .dataframe tbody tr th {\n",
       "        vertical-align: top;\n",
       "    }\n",
       "\n",
       "    .dataframe thead th {\n",
       "        text-align: right;\n",
       "    }\n",
       "</style>\n",
       "<table border=\"1\" class=\"dataframe\">\n",
       "  <thead>\n",
       "    <tr style=\"text-align: right;\">\n",
       "      <th></th>\n",
       "      <th>count</th>\n",
       "      <th>unique</th>\n",
       "      <th>top</th>\n",
       "      <th>freq</th>\n",
       "    </tr>\n",
       "  </thead>\n",
       "  <tbody>\n",
       "    <tr>\n",
       "      <td>answers_id</td>\n",
       "      <td>51123</td>\n",
       "      <td>51123</td>\n",
       "      <td>1ca6bbf1da9c4f8fa2f59c52d99d2a3f</td>\n",
       "      <td>1</td>\n",
       "    </tr>\n",
       "    <tr>\n",
       "      <td>answers_author_id</td>\n",
       "      <td>51123</td>\n",
       "      <td>10169</td>\n",
       "      <td>36ff3b3666df400f956f8335cf53e09e</td>\n",
       "      <td>1710</td>\n",
       "    </tr>\n",
       "    <tr>\n",
       "      <td>answers_question_id</td>\n",
       "      <td>51123</td>\n",
       "      <td>23110</td>\n",
       "      <td>8eb6ba7af57846acbfec5633e537192a</td>\n",
       "      <td>58</td>\n",
       "    </tr>\n",
       "    <tr>\n",
       "      <td>answers_date_added</td>\n",
       "      <td>51123</td>\n",
       "      <td>51062</td>\n",
       "      <td>2017-10-13 17:42:30 UTC+0000</td>\n",
       "      <td>2</td>\n",
       "    </tr>\n",
       "    <tr>\n",
       "      <td>answers_body</td>\n",
       "      <td>51122</td>\n",
       "      <td>50401</td>\n",
       "      <td>&lt;p&gt;&amp;lt;span style=\"background-color: transparent;\"&amp;gt;Collegeboard.org is a great resource for this! I poured through the pages of universities all over the U.S. when I was a senior in high school. Collegeboard was my go-to site! They put all of the information in one place and it is very easy to use. They even have various filters you can apply to see only colleges that have programs you are interested. To determine academic rigor, look at the admissions requirements, G.P.A. of past admitted applicants, SAT/ACT scores, class rank etc. This will give you an idea of what scores and grades you need to be accepted. However, don't be discouraged your application will be reviewed based on the full picture! College-board will help you get an idea of what is most important to the specific school you are applying to.&amp;lt;/span&amp;gt;&lt;/p&gt;&lt;p&gt;&lt;br&gt;&lt;/p&gt;&lt;p&gt;&lt;em&gt;This professional recommends the following &lt;/em&gt;&lt;a href=\"https://medium.com/@careervillage/introducing-next-steps-e27f907c3c6e\"&gt;&lt;em&gt;next steps&lt;/em&gt;&lt;/a&gt;&lt;em&gt;:&lt;/em&gt;&lt;/p&gt;&lt;ul&gt;&lt;li&gt;&amp;lt;span style=\"background-color: transparent;\"&amp;gt;Chat with your Guidance Counselor&amp;lt;/span&amp;gt;&lt;/li&gt;&lt;li&gt;&amp;lt;span style=\"background-color: transparent;\"&amp;gt;Create a Collegeboard.org account&amp;lt;/span&amp;gt;&lt;/li&gt;&lt;li&gt;&amp;lt;span style=\"background-color: transparent;\"&amp;gt;Start using CollegeBoard as a resource to look up schools.&amp;lt;/span&amp;gt;&lt;/li&gt;&lt;/ul&gt;&lt;p&gt;&lt;br&gt;&lt;/p&gt;</td>\n",
       "      <td>103</td>\n",
       "    </tr>\n",
       "  </tbody>\n",
       "</table>\n",
       "</div>"
      ],
      "text/plain": [
       "                     count unique  \\\n",
       "answers_id           51123  51123   \n",
       "answers_author_id    51123  10169   \n",
       "answers_question_id  51123  23110   \n",
       "answers_date_added   51123  51062   \n",
       "answers_body         51122  50401   \n",
       "\n",
       "                                                                                                                                                                                                                                                                                                                                                                                                                                                                                                                                                                                                                                                                                                                                                                                                                                                                                                                                                                                                                                                                                                                                                                                                                                                                                                                                                                                                                                                         top  \\\n",
       "answers_id           1ca6bbf1da9c4f8fa2f59c52d99d2a3f                                                                                                                                                                                                                                                                                                                                                                                                                                                                                                                                                                                                                                                                                                                                                                                                                                                                                                                                                                                                                                                                                                                                                                                                                                                                                                                                                                                                          \n",
       "answers_author_id    36ff3b3666df400f956f8335cf53e09e                                                                                                                                                                                                                                                                                                                                                                                                                                                                                                                                                                                                                                                                                                                                                                                                                                                                                                                                                                                                                                                                                                                                                                                                                                                                                                                                                                                                          \n",
       "answers_question_id  8eb6ba7af57846acbfec5633e537192a                                                                                                                                                                                                                                                                                                                                                                                                                                                                                                                                                                                                                                                                                                                                                                                                                                                                                                                                                                                                                                                                                                                                                                                                                                                                                                                                                                                                          \n",
       "answers_date_added   2017-10-13 17:42:30 UTC+0000                                                                                                                                                                                                                                                                                                                                                                                                                                                                                                                                                                                                                                                                                                                                                                                                                                                                                                                                                                                                                                                                                                                                                                                                                                                                                                                                                                                                              \n",
       "answers_body         <p>&lt;span style=\"background-color: transparent;\"&gt;Collegeboard.org is a great resource for this! I poured through the pages of universities all over the U.S. when I was a senior in high school. Collegeboard was my go-to site! They put all of the information in one place and it is very easy to use. They even have various filters you can apply to see only colleges that have programs you are interested. To determine academic rigor, look at the admissions requirements, G.P.A. of past admitted applicants, SAT/ACT scores, class rank etc. This will give you an idea of what scores and grades you need to be accepted. However, don't be discouraged your application will be reviewed based on the full picture! College-board will help you get an idea of what is most important to the specific school you are applying to.&lt;/span&gt;</p><p><br></p><p><em>This professional recommends the following </em><a href=\"https://medium.com/@careervillage/introducing-next-steps-e27f907c3c6e\"><em>next steps</em></a><em>:</em></p><ul><li>&lt;span style=\"background-color: transparent;\"&gt;Chat with your Guidance Counselor&lt;/span&gt;</li><li>&lt;span style=\"background-color: transparent;\"&gt;Create a Collegeboard.org account&lt;/span&gt;</li><li>&lt;span style=\"background-color: transparent;\"&gt;Start using CollegeBoard as a resource to look up schools.&lt;/span&gt;</li></ul><p><br></p>   \n",
       "\n",
       "                     freq  \n",
       "answers_id           1     \n",
       "answers_author_id    1710  \n",
       "answers_question_id  58    \n",
       "answers_date_added   2     \n",
       "answers_body         103   "
      ]
     },
     "execution_count": 19,
     "metadata": {},
     "output_type": "execute_result"
    }
   ],
   "source": [
    "answers.describe().T"
   ]
  },
  {
   "cell_type": "code",
   "execution_count": 20,
   "metadata": {},
   "outputs": [],
   "source": [
    "answers.rename(columns = {\"answers_author_id\":\"professionals_id\",\"answers_question_id\":\"questions_id\"},inplace=True)"
   ]
  },
  {
   "cell_type": "code",
   "execution_count": 21,
   "metadata": {},
   "outputs": [
    {
     "data": {
      "text/html": [
       "<div>\n",
       "<style scoped>\n",
       "    .dataframe tbody tr th:only-of-type {\n",
       "        vertical-align: middle;\n",
       "    }\n",
       "\n",
       "    .dataframe tbody tr th {\n",
       "        vertical-align: top;\n",
       "    }\n",
       "\n",
       "    .dataframe thead th {\n",
       "        text-align: right;\n",
       "    }\n",
       "</style>\n",
       "<table border=\"1\" class=\"dataframe\">\n",
       "  <thead>\n",
       "    <tr style=\"text-align: right;\">\n",
       "      <th></th>\n",
       "      <th>answers_id</th>\n",
       "      <th>professionals_id</th>\n",
       "      <th>questions_id</th>\n",
       "      <th>answers_date_added</th>\n",
       "      <th>answers_body</th>\n",
       "    </tr>\n",
       "  </thead>\n",
       "  <tbody>\n",
       "    <tr>\n",
       "      <td>0</td>\n",
       "      <td>4e5f01128cae4f6d8fd697cec5dca60c</td>\n",
       "      <td>36ff3b3666df400f956f8335cf53e09e</td>\n",
       "      <td>332a511f1569444485cf7a7a556a5e54</td>\n",
       "      <td>2016-04-29 19:40:14 UTC+0000</td>\n",
       "      <td>&lt;p&gt;Hi!&lt;/p&gt;\\n&lt;p&gt;You are asking a very interesting question.  I am giving you two sites that will give you some of an explanation that may answer your question.&lt;/p&gt;\\n&lt;p&gt;http://mathforum.org/dr.math/faq/faq.why.math.html&lt;/p&gt;\\n&lt;p&gt;http://www.mathworksheetscenter.com/mathtips/mathissoimportant.html&lt;/p&gt;\\n&lt;p&gt;Let me know if this helps&lt;/p&gt;</td>\n",
       "    </tr>\n",
       "    <tr>\n",
       "      <td>1</td>\n",
       "      <td>ada720538c014e9b8a6dceed09385ee3</td>\n",
       "      <td>2aa47af241bf42a4b874c453f0381bd4</td>\n",
       "      <td>eb80205482e4424cad8f16bc25aa2d9c</td>\n",
       "      <td>2018-05-01 14:19:08 UTC+0000</td>\n",
       "      <td>&lt;p&gt;Hi. I joined the Army after I attended college and received a Bachelor's Degree in Criminal Justice.  Commissioned officers enter the Military with a four year degree or receive officer training after joining and complete a tour. You can prepare yourself by taking Reserve Officer Training Corps (ROTC) while in high school or a university. You can also attend Officer Candidate School (OCS) after graduating from college or become commissioned by earning a professional degree. If you decide to earn a degree, think about what you would like to do while in the military.  The experience in the military was very rewarding. I wish you well and much success in your future. &lt;/p&gt;</td>\n",
       "    </tr>\n",
       "    <tr>\n",
       "      <td>2</td>\n",
       "      <td>eaa66ef919bc408ab5296237440e323f</td>\n",
       "      <td>cbd8f30613a849bf918aed5c010340be</td>\n",
       "      <td>eb80205482e4424cad8f16bc25aa2d9c</td>\n",
       "      <td>2018-05-02 02:41:02 UTC+0000</td>\n",
       "      <td>&lt;p&gt;Dear Priyanka,&lt;/p&gt;&lt;p&gt;Greetings! I have answered this question to Eshwari few days ago. I am going to reproduce that answer with bit of modifications as required for better clarity. &lt;/p&gt;&lt;p&gt;&lt;br&gt;&lt;/p&gt;&lt;p&gt;From your background, I could make out that you are from Bangalore and a student of 10th standard but your location is Rhode Island, USA. So I am not very clear as to which Army you wish to join ? Is it the US Army or the Indian Army? It is important to know that very few foreign nationals can join Indian Army (like Nepali citizens etc.). So you have to ascertain for yourself as to which citizenship you hold and accordingly you can join armed forces of the respective countries. Both are highly professional armies and respected a lot. I shall answer the modalities about the Indian Army, assuming that is the natural choice.&lt;/p&gt;&lt;p&gt;&lt;br&gt;&lt;/p&gt;&lt;p&gt;So, to answer your query, there are following options for you to become army officer:&lt;/p&gt;&lt;ol&gt;&lt;li&gt; Do your B.Sc  and that will be good as you have wider choices including flying branches in air force and executive branches in Navy. Similarly BA/B.Com if you are not looking for flying or executive branches. &lt;/li&gt;&lt;li&gt;  Should you wish to be doctor in Army then you can appear for entrance Test for AFMC, Pune or Army Dental College after class 12th with PCMB. However, you can do the same by attending Medical colleges from civil institutes in India/abroad.  &lt;/li&gt;&lt;li&gt; You can also join Military Nursing Services after B.Sc or Diploma in Nursing but majority of them are trained within army organisations (after 12th only  with PCMB). &lt;/li&gt;&lt;li&gt; You can join after doing your graduation in Engineering (Civil, Mech, Electrical, Electronics or Computer Sciences) or Masters in Physics with Electronics or Computers for engineering branches.&lt;/li&gt;&lt;li&gt;You can also join in Education Corps by doing M.Sc/MA/M.Com with or without B.Ed or in Legal services by doing your Law Degree. &lt;/li&gt;&lt;/ol&gt;&lt;p&gt;&lt;br&gt;&lt;/p&gt;&lt;p&gt;After your basic education, application and selection test processes, one has to clear SSB (Services Selection Board) which is a very stringent 5 days test (compulsory for all including Women officers except medical professionals). It is one of the best methods of test I know to assess the suitability for military services (as officers), a proven method of testing of one's psyche, leadership qualities which takes  all the aspects of your personality into account and decide.  Although, success rate is pretty low but don't get disheartened and demotivated. Key to success in SSB is a sound mind with sound body, positive attitude and basic IQ.  If I could do with an average IQ and humble  educational backgrounds, why not you?  There were many friends (within my batch) of whom we thought that they will never make it to the SSB but they did qualify and now serving as  Major General. &lt;/p&gt;&lt;p&gt;Please refer the links given below and you can find scores of material to read about SSB on the net or through books.&lt;/p&gt;&lt;p&gt;All the Very Best! Jai Hind!&lt;/p&gt;&amp;lt;h1&amp;gt;&lt;br&gt;&amp;lt;/h1&amp;gt;&lt;p&gt;&lt;br&gt;&lt;/p&gt;</td>\n",
       "    </tr>\n",
       "    <tr>\n",
       "      <td>3</td>\n",
       "      <td>1a6b3749d391486c9e371fbd1e605014</td>\n",
       "      <td>7e72a630c303442ba92ff00e8ea451df</td>\n",
       "      <td>4ec31632938a40b98909416bdd0decff</td>\n",
       "      <td>2017-05-10 19:00:47 UTC+0000</td>\n",
       "      <td>&lt;p&gt;I work for a global company who values highly international experience.  In fact, that is a key experience we look for in candidates.  Therefore, I'd say it would be wise to take advantage of the teaching opportunity - even if only for a year or 2.  You never know where it might lead and you will certainly have an edge on your return if you then look for employment in a global company.&lt;/p&gt;</td>\n",
       "    </tr>\n",
       "  </tbody>\n",
       "</table>\n",
       "</div>"
      ],
      "text/plain": [
       "                         answers_id                  professionals_id  \\\n",
       "0  4e5f01128cae4f6d8fd697cec5dca60c  36ff3b3666df400f956f8335cf53e09e   \n",
       "1  ada720538c014e9b8a6dceed09385ee3  2aa47af241bf42a4b874c453f0381bd4   \n",
       "2  eaa66ef919bc408ab5296237440e323f  cbd8f30613a849bf918aed5c010340be   \n",
       "3  1a6b3749d391486c9e371fbd1e605014  7e72a630c303442ba92ff00e8ea451df   \n",
       "\n",
       "                       questions_id            answers_date_added  \\\n",
       "0  332a511f1569444485cf7a7a556a5e54  2016-04-29 19:40:14 UTC+0000   \n",
       "1  eb80205482e4424cad8f16bc25aa2d9c  2018-05-01 14:19:08 UTC+0000   \n",
       "2  eb80205482e4424cad8f16bc25aa2d9c  2018-05-02 02:41:02 UTC+0000   \n",
       "3  4ec31632938a40b98909416bdd0decff  2017-05-10 19:00:47 UTC+0000   \n",
       "\n",
       "                                                                                                                                                                                                                                                                                                                                                                                                                                                                                                                                                                                                                                                                                                                                                                                                                                                                                                                                                                                                                                                                                                                                                                                                                                                                                                                                                                                                                                                                                                                                                                                                                                                                                                                                                                                                                                                                                                                                                                                                                                                                                                                                                                                                                                                                                                                                                                                                                                                                                                                                                                                                                                                                                                                                                                                                                                                                                                                                                                                                                                                                                                                                                   answers_body  \n",
       "0  <p>Hi!</p>\\n<p>You are asking a very interesting question.  I am giving you two sites that will give you some of an explanation that may answer your question.</p>\\n<p>http://mathforum.org/dr.math/faq/faq.why.math.html</p>\\n<p>http://www.mathworksheetscenter.com/mathtips/mathissoimportant.html</p>\\n<p>Let me know if this helps</p>                                                                                                                                                                                                                                                                                                                                                                                                                                                                                                                                                                                                                                                                                                                                                                                                                                                                                                                                                                                                                                                                                                                                                                                                                                                                                                                                                                                                                                                                                                                                                                                                                                                                                                                                                                                                                                                                                                                                                                                                                                                                                                                                                                                                                                                                                                                                                                                                                                                                                                                                                                                                                                                                                                                                                                                                                   \n",
       "1  <p>Hi. I joined the Army after I attended college and received a Bachelor's Degree in Criminal Justice.  Commissioned officers enter the Military with a four year degree or receive officer training after joining and complete a tour. You can prepare yourself by taking Reserve Officer Training Corps (ROTC) while in high school or a university. You can also attend Officer Candidate School (OCS) after graduating from college or become commissioned by earning a professional degree. If you decide to earn a degree, think about what you would like to do while in the military.  The experience in the military was very rewarding. I wish you well and much success in your future. </p>                                                                                                                                                                                                                                                                                                                                                                                                                                                                                                                                                                                                                                                                                                                                                                                                                                                                                                                                                                                                                                                                                                                                                                                                                                                                                                                                                                                                                                                                                                                                                                                                                                                                                                                                                                                                                                                                                                                                                                                                                                                                                                                                                                                                                                                                                                                                                                                                                                                      \n",
       "2  <p>Dear Priyanka,</p><p>Greetings! I have answered this question to Eshwari few days ago. I am going to reproduce that answer with bit of modifications as required for better clarity. </p><p><br></p><p>From your background, I could make out that you are from Bangalore and a student of 10th standard but your location is Rhode Island, USA. So I am not very clear as to which Army you wish to join ? Is it the US Army or the Indian Army? It is important to know that very few foreign nationals can join Indian Army (like Nepali citizens etc.). So you have to ascertain for yourself as to which citizenship you hold and accordingly you can join armed forces of the respective countries. Both are highly professional armies and respected a lot. I shall answer the modalities about the Indian Army, assuming that is the natural choice.</p><p><br></p><p>So, to answer your query, there are following options for you to become army officer:</p><ol><li> Do your B.Sc  and that will be good as you have wider choices including flying branches in air force and executive branches in Navy. Similarly BA/B.Com if you are not looking for flying or executive branches. </li><li>  Should you wish to be doctor in Army then you can appear for entrance Test for AFMC, Pune or Army Dental College after class 12th with PCMB. However, you can do the same by attending Medical colleges from civil institutes in India/abroad.  </li><li> You can also join Military Nursing Services after B.Sc or Diploma in Nursing but majority of them are trained within army organisations (after 12th only  with PCMB). </li><li> You can join after doing your graduation in Engineering (Civil, Mech, Electrical, Electronics or Computer Sciences) or Masters in Physics with Electronics or Computers for engineering branches.</li><li>You can also join in Education Corps by doing M.Sc/MA/M.Com with or without B.Ed or in Legal services by doing your Law Degree. </li></ol><p><br></p><p>After your basic education, application and selection test processes, one has to clear SSB (Services Selection Board) which is a very stringent 5 days test (compulsory for all including Women officers except medical professionals). It is one of the best methods of test I know to assess the suitability for military services (as officers), a proven method of testing of one's psyche, leadership qualities which takes  all the aspects of your personality into account and decide.  Although, success rate is pretty low but don't get disheartened and demotivated. Key to success in SSB is a sound mind with sound body, positive attitude and basic IQ.  If I could do with an average IQ and humble  educational backgrounds, why not you?  There were many friends (within my batch) of whom we thought that they will never make it to the SSB but they did qualify and now serving as  Major General. </p><p>Please refer the links given below and you can find scores of material to read about SSB on the net or through books.</p><p>All the Very Best! Jai Hind!</p>&lt;h1&gt;<br>&lt;/h1&gt;<p><br></p>  \n",
       "3  <p>I work for a global company who values highly international experience.  In fact, that is a key experience we look for in candidates.  Therefore, I'd say it would be wise to take advantage of the teaching opportunity - even if only for a year or 2.  You never know where it might lead and you will certainly have an edge on your return if you then look for employment in a global company.</p>                                                                                                                                                                                                                                                                                                                                                                                                                                                                                                                                                                                                                                                                                                                                                                                                                                                                                                                                                                                                                                                                                                                                                                                                                                                                                                                                                                                                                                                                                                                                                                                                                                                                                                                                                                                                                                                                                                                                                                                                                                                                                                                                                                                                                                                                                                                                                                                                                                                                                                                                                                                                                                                                                                                                                   "
      ]
     },
     "execution_count": 21,
     "metadata": {},
     "output_type": "execute_result"
    }
   ],
   "source": [
    "answers.head(4)"
   ]
  },
  {
   "cell_type": "code",
   "execution_count": 22,
   "metadata": {},
   "outputs": [],
   "source": [
    "#Converting the string type to date type\n",
    "answers[\"answers_date_added\"] = pd.to_datetime(answers[\"answers_date_added\"])"
   ]
  },
  {
   "cell_type": "code",
   "execution_count": 23,
   "metadata": {},
   "outputs": [
    {
     "data": {
      "text/html": [
       "<div>\n",
       "<style scoped>\n",
       "    .dataframe tbody tr th:only-of-type {\n",
       "        vertical-align: middle;\n",
       "    }\n",
       "\n",
       "    .dataframe tbody tr th {\n",
       "        vertical-align: top;\n",
       "    }\n",
       "\n",
       "    .dataframe thead th {\n",
       "        text-align: right;\n",
       "    }\n",
       "</style>\n",
       "<table border=\"1\" class=\"dataframe\">\n",
       "  <thead>\n",
       "    <tr style=\"text-align: right;\">\n",
       "      <th></th>\n",
       "      <th>answers_id</th>\n",
       "      <th>professionals_id</th>\n",
       "      <th>questions_id</th>\n",
       "      <th>answers_date_added</th>\n",
       "      <th>answers_body</th>\n",
       "    </tr>\n",
       "  </thead>\n",
       "  <tbody>\n",
       "    <tr>\n",
       "      <td>0</td>\n",
       "      <td>4e5f01128cae4f6d8fd697cec5dca60c</td>\n",
       "      <td>36ff3b3666df400f956f8335cf53e09e</td>\n",
       "      <td>332a511f1569444485cf7a7a556a5e54</td>\n",
       "      <td>2016-04-29 19:40:14+00:00</td>\n",
       "      <td>&lt;p&gt;Hi!&lt;/p&gt;\\n&lt;p&gt;You are asking a very interesting question.  I am giving you two sites that will give you some of an explanation that may answer your question.&lt;/p&gt;\\n&lt;p&gt;http://mathforum.org/dr.math/faq/faq.why.math.html&lt;/p&gt;\\n&lt;p&gt;http://www.mathworksheetscenter.com/mathtips/mathissoimportant.html&lt;/p&gt;\\n&lt;p&gt;Let me know if this helps&lt;/p&gt;</td>\n",
       "    </tr>\n",
       "    <tr>\n",
       "      <td>1</td>\n",
       "      <td>ada720538c014e9b8a6dceed09385ee3</td>\n",
       "      <td>2aa47af241bf42a4b874c453f0381bd4</td>\n",
       "      <td>eb80205482e4424cad8f16bc25aa2d9c</td>\n",
       "      <td>2018-05-01 14:19:08+00:00</td>\n",
       "      <td>&lt;p&gt;Hi. I joined the Army after I attended college and received a Bachelor's Degree in Criminal Justice.  Commissioned officers enter the Military with a four year degree or receive officer training after joining and complete a tour. You can prepare yourself by taking Reserve Officer Training Corps (ROTC) while in high school or a university. You can also attend Officer Candidate School (OCS) after graduating from college or become commissioned by earning a professional degree. If you decide to earn a degree, think about what you would like to do while in the military.  The experience in the military was very rewarding. I wish you well and much success in your future. &lt;/p&gt;</td>\n",
       "    </tr>\n",
       "    <tr>\n",
       "      <td>2</td>\n",
       "      <td>eaa66ef919bc408ab5296237440e323f</td>\n",
       "      <td>cbd8f30613a849bf918aed5c010340be</td>\n",
       "      <td>eb80205482e4424cad8f16bc25aa2d9c</td>\n",
       "      <td>2018-05-02 02:41:02+00:00</td>\n",
       "      <td>&lt;p&gt;Dear Priyanka,&lt;/p&gt;&lt;p&gt;Greetings! I have answered this question to Eshwari few days ago. I am going to reproduce that answer with bit of modifications as required for better clarity. &lt;/p&gt;&lt;p&gt;&lt;br&gt;&lt;/p&gt;&lt;p&gt;From your background, I could make out that you are from Bangalore and a student of 10th standard but your location is Rhode Island, USA. So I am not very clear as to which Army you wish to join ? Is it the US Army or the Indian Army? It is important to know that very few foreign nationals can join Indian Army (like Nepali citizens etc.). So you have to ascertain for yourself as to which citizenship you hold and accordingly you can join armed forces of the respective countries. Both are highly professional armies and respected a lot. I shall answer the modalities about the Indian Army, assuming that is the natural choice.&lt;/p&gt;&lt;p&gt;&lt;br&gt;&lt;/p&gt;&lt;p&gt;So, to answer your query, there are following options for you to become army officer:&lt;/p&gt;&lt;ol&gt;&lt;li&gt; Do your B.Sc  and that will be good as you have wider choices including flying branches in air force and executive branches in Navy. Similarly BA/B.Com if you are not looking for flying or executive branches. &lt;/li&gt;&lt;li&gt;  Should you wish to be doctor in Army then you can appear for entrance Test for AFMC, Pune or Army Dental College after class 12th with PCMB. However, you can do the same by attending Medical colleges from civil institutes in India/abroad.  &lt;/li&gt;&lt;li&gt; You can also join Military Nursing Services after B.Sc or Diploma in Nursing but majority of them are trained within army organisations (after 12th only  with PCMB). &lt;/li&gt;&lt;li&gt; You can join after doing your graduation in Engineering (Civil, Mech, Electrical, Electronics or Computer Sciences) or Masters in Physics with Electronics or Computers for engineering branches.&lt;/li&gt;&lt;li&gt;You can also join in Education Corps by doing M.Sc/MA/M.Com with or without B.Ed or in Legal services by doing your Law Degree. &lt;/li&gt;&lt;/ol&gt;&lt;p&gt;&lt;br&gt;&lt;/p&gt;&lt;p&gt;After your basic education, application and selection test processes, one has to clear SSB (Services Selection Board) which is a very stringent 5 days test (compulsory for all including Women officers except medical professionals). It is one of the best methods of test I know to assess the suitability for military services (as officers), a proven method of testing of one's psyche, leadership qualities which takes  all the aspects of your personality into account and decide.  Although, success rate is pretty low but don't get disheartened and demotivated. Key to success in SSB is a sound mind with sound body, positive attitude and basic IQ.  If I could do with an average IQ and humble  educational backgrounds, why not you?  There were many friends (within my batch) of whom we thought that they will never make it to the SSB but they did qualify and now serving as  Major General. &lt;/p&gt;&lt;p&gt;Please refer the links given below and you can find scores of material to read about SSB on the net or through books.&lt;/p&gt;&lt;p&gt;All the Very Best! Jai Hind!&lt;/p&gt;&amp;lt;h1&amp;gt;&lt;br&gt;&amp;lt;/h1&amp;gt;&lt;p&gt;&lt;br&gt;&lt;/p&gt;</td>\n",
       "    </tr>\n",
       "    <tr>\n",
       "      <td>3</td>\n",
       "      <td>1a6b3749d391486c9e371fbd1e605014</td>\n",
       "      <td>7e72a630c303442ba92ff00e8ea451df</td>\n",
       "      <td>4ec31632938a40b98909416bdd0decff</td>\n",
       "      <td>2017-05-10 19:00:47+00:00</td>\n",
       "      <td>&lt;p&gt;I work for a global company who values highly international experience.  In fact, that is a key experience we look for in candidates.  Therefore, I'd say it would be wise to take advantage of the teaching opportunity - even if only for a year or 2.  You never know where it might lead and you will certainly have an edge on your return if you then look for employment in a global company.&lt;/p&gt;</td>\n",
       "    </tr>\n",
       "  </tbody>\n",
       "</table>\n",
       "</div>"
      ],
      "text/plain": [
       "                         answers_id                  professionals_id  \\\n",
       "0  4e5f01128cae4f6d8fd697cec5dca60c  36ff3b3666df400f956f8335cf53e09e   \n",
       "1  ada720538c014e9b8a6dceed09385ee3  2aa47af241bf42a4b874c453f0381bd4   \n",
       "2  eaa66ef919bc408ab5296237440e323f  cbd8f30613a849bf918aed5c010340be   \n",
       "3  1a6b3749d391486c9e371fbd1e605014  7e72a630c303442ba92ff00e8ea451df   \n",
       "\n",
       "                       questions_id        answers_date_added  \\\n",
       "0  332a511f1569444485cf7a7a556a5e54 2016-04-29 19:40:14+00:00   \n",
       "1  eb80205482e4424cad8f16bc25aa2d9c 2018-05-01 14:19:08+00:00   \n",
       "2  eb80205482e4424cad8f16bc25aa2d9c 2018-05-02 02:41:02+00:00   \n",
       "3  4ec31632938a40b98909416bdd0decff 2017-05-10 19:00:47+00:00   \n",
       "\n",
       "                                                                                                                                                                                                                                                                                                                                                                                                                                                                                                                                                                                                                                                                                                                                                                                                                                                                                                                                                                                                                                                                                                                                                                                                                                                                                                                                                                                                                                                                                                                                                                                                                                                                                                                                                                                                                                                                                                                                                                                                                                                                                                                                                                                                                                                                                                                                                                                                                                                                                                                                                                                                                                                                                                                                                                                                                                                                                                                                                                                                                                                                                                                                                   answers_body  \n",
       "0  <p>Hi!</p>\\n<p>You are asking a very interesting question.  I am giving you two sites that will give you some of an explanation that may answer your question.</p>\\n<p>http://mathforum.org/dr.math/faq/faq.why.math.html</p>\\n<p>http://www.mathworksheetscenter.com/mathtips/mathissoimportant.html</p>\\n<p>Let me know if this helps</p>                                                                                                                                                                                                                                                                                                                                                                                                                                                                                                                                                                                                                                                                                                                                                                                                                                                                                                                                                                                                                                                                                                                                                                                                                                                                                                                                                                                                                                                                                                                                                                                                                                                                                                                                                                                                                                                                                                                                                                                                                                                                                                                                                                                                                                                                                                                                                                                                                                                                                                                                                                                                                                                                                                                                                                                                                   \n",
       "1  <p>Hi. I joined the Army after I attended college and received a Bachelor's Degree in Criminal Justice.  Commissioned officers enter the Military with a four year degree or receive officer training after joining and complete a tour. You can prepare yourself by taking Reserve Officer Training Corps (ROTC) while in high school or a university. You can also attend Officer Candidate School (OCS) after graduating from college or become commissioned by earning a professional degree. If you decide to earn a degree, think about what you would like to do while in the military.  The experience in the military was very rewarding. I wish you well and much success in your future. </p>                                                                                                                                                                                                                                                                                                                                                                                                                                                                                                                                                                                                                                                                                                                                                                                                                                                                                                                                                                                                                                                                                                                                                                                                                                                                                                                                                                                                                                                                                                                                                                                                                                                                                                                                                                                                                                                                                                                                                                                                                                                                                                                                                                                                                                                                                                                                                                                                                                                      \n",
       "2  <p>Dear Priyanka,</p><p>Greetings! I have answered this question to Eshwari few days ago. I am going to reproduce that answer with bit of modifications as required for better clarity. </p><p><br></p><p>From your background, I could make out that you are from Bangalore and a student of 10th standard but your location is Rhode Island, USA. So I am not very clear as to which Army you wish to join ? Is it the US Army or the Indian Army? It is important to know that very few foreign nationals can join Indian Army (like Nepali citizens etc.). So you have to ascertain for yourself as to which citizenship you hold and accordingly you can join armed forces of the respective countries. Both are highly professional armies and respected a lot. I shall answer the modalities about the Indian Army, assuming that is the natural choice.</p><p><br></p><p>So, to answer your query, there are following options for you to become army officer:</p><ol><li> Do your B.Sc  and that will be good as you have wider choices including flying branches in air force and executive branches in Navy. Similarly BA/B.Com if you are not looking for flying or executive branches. </li><li>  Should you wish to be doctor in Army then you can appear for entrance Test for AFMC, Pune or Army Dental College after class 12th with PCMB. However, you can do the same by attending Medical colleges from civil institutes in India/abroad.  </li><li> You can also join Military Nursing Services after B.Sc or Diploma in Nursing but majority of them are trained within army organisations (after 12th only  with PCMB). </li><li> You can join after doing your graduation in Engineering (Civil, Mech, Electrical, Electronics or Computer Sciences) or Masters in Physics with Electronics or Computers for engineering branches.</li><li>You can also join in Education Corps by doing M.Sc/MA/M.Com with or without B.Ed or in Legal services by doing your Law Degree. </li></ol><p><br></p><p>After your basic education, application and selection test processes, one has to clear SSB (Services Selection Board) which is a very stringent 5 days test (compulsory for all including Women officers except medical professionals). It is one of the best methods of test I know to assess the suitability for military services (as officers), a proven method of testing of one's psyche, leadership qualities which takes  all the aspects of your personality into account and decide.  Although, success rate is pretty low but don't get disheartened and demotivated. Key to success in SSB is a sound mind with sound body, positive attitude and basic IQ.  If I could do with an average IQ and humble  educational backgrounds, why not you?  There were many friends (within my batch) of whom we thought that they will never make it to the SSB but they did qualify and now serving as  Major General. </p><p>Please refer the links given below and you can find scores of material to read about SSB on the net or through books.</p><p>All the Very Best! Jai Hind!</p>&lt;h1&gt;<br>&lt;/h1&gt;<p><br></p>  \n",
       "3  <p>I work for a global company who values highly international experience.  In fact, that is a key experience we look for in candidates.  Therefore, I'd say it would be wise to take advantage of the teaching opportunity - even if only for a year or 2.  You never know where it might lead and you will certainly have an edge on your return if you then look for employment in a global company.</p>                                                                                                                                                                                                                                                                                                                                                                                                                                                                                                                                                                                                                                                                                                                                                                                                                                                                                                                                                                                                                                                                                                                                                                                                                                                                                                                                                                                                                                                                                                                                                                                                                                                                                                                                                                                                                                                                                                                                                                                                                                                                                                                                                                                                                                                                                                                                                                                                                                                                                                                                                                                                                                                                                                                                                   "
      ]
     },
     "execution_count": 23,
     "metadata": {},
     "output_type": "execute_result"
    }
   ],
   "source": [
    "answers.head(4)"
   ]
  },
  {
   "cell_type": "code",
   "execution_count": 10,
   "metadata": {},
   "outputs": [
    {
     "data": {
      "text/plain": [
       "answers_id            0\n",
       "professionals_id      0\n",
       "questions_id          0\n",
       "answers_date_added    0\n",
       "answers_body          1\n",
       "dtype: int64"
      ]
     },
     "execution_count": 10,
     "metadata": {},
     "output_type": "execute_result"
    }
   ],
   "source": [
    "answers.isnull().sum()"
   ]
  },
  {
   "cell_type": "markdown",
   "metadata": {},
   "source": [
    "Comments"
   ]
  },
  {
   "cell_type": "code",
   "execution_count": 24,
   "metadata": {},
   "outputs": [],
   "source": [
    "comments = pd.read_csv(r\"C:\\Users\\meril\\Desktop\\Capstone\\comments.csv\")"
   ]
  },
  {
   "cell_type": "code",
   "execution_count": 25,
   "metadata": {},
   "outputs": [
    {
     "name": "stdout",
     "output_type": "stream",
     "text": [
      "<class 'pandas.core.frame.DataFrame'>\n",
      "RangeIndex: 14966 entries, 0 to 14965\n",
      "Data columns (total 5 columns):\n",
      "comments_id                   14966 non-null object\n",
      "comments_author_id            14966 non-null object\n",
      "comments_parent_content_id    14966 non-null object\n",
      "comments_date_added           14966 non-null object\n",
      "comments_body                 14962 non-null object\n",
      "dtypes: object(5)\n",
      "memory usage: 584.7+ KB\n"
     ]
    }
   ],
   "source": [
    "comments.info()"
   ]
  },
  {
   "cell_type": "code",
   "execution_count": 13,
   "metadata": {},
   "outputs": [
    {
     "data": {
      "text/html": [
       "<div>\n",
       "<style scoped>\n",
       "    .dataframe tbody tr th:only-of-type {\n",
       "        vertical-align: middle;\n",
       "    }\n",
       "\n",
       "    .dataframe tbody tr th {\n",
       "        vertical-align: top;\n",
       "    }\n",
       "\n",
       "    .dataframe thead th {\n",
       "        text-align: right;\n",
       "    }\n",
       "</style>\n",
       "<table border=\"1\" class=\"dataframe\">\n",
       "  <thead>\n",
       "    <tr style=\"text-align: right;\">\n",
       "      <th></th>\n",
       "      <th>count</th>\n",
       "      <th>unique</th>\n",
       "      <th>top</th>\n",
       "      <th>freq</th>\n",
       "    </tr>\n",
       "  </thead>\n",
       "  <tbody>\n",
       "    <tr>\n",
       "      <td>comments_id</td>\n",
       "      <td>14966</td>\n",
       "      <td>14966</td>\n",
       "      <td>7a8020c3fb4e41029ffbd93035a90790</td>\n",
       "      <td>1</td>\n",
       "    </tr>\n",
       "    <tr>\n",
       "      <td>comments_author_id</td>\n",
       "      <td>14966</td>\n",
       "      <td>4231</td>\n",
       "      <td>36ff3b3666df400f956f8335cf53e09e</td>\n",
       "      <td>317</td>\n",
       "    </tr>\n",
       "    <tr>\n",
       "      <td>comments_parent_content_id</td>\n",
       "      <td>14966</td>\n",
       "      <td>9923</td>\n",
       "      <td>4c6ae4bd2136472899c15b798eb9d3df</td>\n",
       "      <td>30</td>\n",
       "    </tr>\n",
       "    <tr>\n",
       "      <td>comments_date_added</td>\n",
       "      <td>14966</td>\n",
       "      <td>14905</td>\n",
       "      <td>2016-07-22 22:13:05 UTC+0000</td>\n",
       "      <td>3</td>\n",
       "    </tr>\n",
       "    <tr>\n",
       "      <td>comments_body</td>\n",
       "      <td>14962</td>\n",
       "      <td>11963</td>\n",
       "      <td>Thank you!</td>\n",
       "      <td>388</td>\n",
       "    </tr>\n",
       "  </tbody>\n",
       "</table>\n",
       "</div>"
      ],
      "text/plain": [
       "                            count unique                               top  \\\n",
       "comments_id                 14966  14966  7a8020c3fb4e41029ffbd93035a90790   \n",
       "comments_author_id          14966   4231  36ff3b3666df400f956f8335cf53e09e   \n",
       "comments_parent_content_id  14966   9923  4c6ae4bd2136472899c15b798eb9d3df   \n",
       "comments_date_added         14966  14905      2016-07-22 22:13:05 UTC+0000   \n",
       "comments_body               14962  11963                        Thank you!   \n",
       "\n",
       "                           freq  \n",
       "comments_id                   1  \n",
       "comments_author_id          317  \n",
       "comments_parent_content_id   30  \n",
       "comments_date_added           3  \n",
       "comments_body               388  "
      ]
     },
     "execution_count": 13,
     "metadata": {},
     "output_type": "execute_result"
    }
   ],
   "source": [
    "comments.describe().T"
   ]
  },
  {
   "cell_type": "code",
   "execution_count": 26,
   "metadata": {},
   "outputs": [],
   "source": [
    "comments[\"comments_date_added\"] = pd.to_datetime(comments[\"comments_date_added\"])"
   ]
  },
  {
   "cell_type": "code",
   "execution_count": 27,
   "metadata": {},
   "outputs": [
    {
     "data": {
      "text/plain": [
       "comments_id                   0\n",
       "comments_author_id            0\n",
       "comments_parent_content_id    0\n",
       "comments_date_added           0\n",
       "comments_body                 4\n",
       "dtype: int64"
      ]
     },
     "execution_count": 27,
     "metadata": {},
     "output_type": "execute_result"
    }
   ],
   "source": [
    "comments.isnull().sum()"
   ]
  },
  {
   "cell_type": "markdown",
   "metadata": {},
   "source": [
    "Emails"
   ]
  },
  {
   "cell_type": "code",
   "execution_count": 28,
   "metadata": {},
   "outputs": [],
   "source": [
    "emails = pd.read_csv(r\"C:\\Users\\meril\\Desktop\\Capstone\\emails.csv\")"
   ]
  },
  {
   "cell_type": "code",
   "execution_count": 29,
   "metadata": {},
   "outputs": [
    {
     "name": "stdout",
     "output_type": "stream",
     "text": [
      "<class 'pandas.core.frame.DataFrame'>\n",
      "RangeIndex: 1850101 entries, 0 to 1850100\n",
      "Data columns (total 4 columns):\n",
      "emails_id                 int64\n",
      "emails_recipient_id       object\n",
      "emails_date_sent          object\n",
      "emails_frequency_level    object\n",
      "dtypes: int64(1), object(3)\n",
      "memory usage: 56.5+ MB\n"
     ]
    }
   ],
   "source": [
    "emails.info()"
   ]
  },
  {
   "cell_type": "code",
   "execution_count": 30,
   "metadata": {},
   "outputs": [
    {
     "data": {
      "text/html": [
       "<div>\n",
       "<style scoped>\n",
       "    .dataframe tbody tr th:only-of-type {\n",
       "        vertical-align: middle;\n",
       "    }\n",
       "\n",
       "    .dataframe tbody tr th {\n",
       "        vertical-align: top;\n",
       "    }\n",
       "\n",
       "    .dataframe thead th {\n",
       "        text-align: right;\n",
       "    }\n",
       "</style>\n",
       "<table border=\"1\" class=\"dataframe\">\n",
       "  <thead>\n",
       "    <tr style=\"text-align: right;\">\n",
       "      <th></th>\n",
       "      <th>emails_id</th>\n",
       "      <th>emails_recipient_id</th>\n",
       "      <th>emails_date_sent</th>\n",
       "      <th>emails_frequency_level</th>\n",
       "    </tr>\n",
       "  </thead>\n",
       "  <tbody>\n",
       "    <tr>\n",
       "      <td>0</td>\n",
       "      <td>2337714</td>\n",
       "      <td>0c673e046d824ec0ad0ebe012a0673e4</td>\n",
       "      <td>2018-12-07 01:05:40 UTC+0000</td>\n",
       "      <td>email_notification_daily</td>\n",
       "    </tr>\n",
       "    <tr>\n",
       "      <td>1</td>\n",
       "      <td>2336077</td>\n",
       "      <td>0c673e046d824ec0ad0ebe012a0673e4</td>\n",
       "      <td>2018-12-06 01:14:15 UTC+0000</td>\n",
       "      <td>email_notification_daily</td>\n",
       "    </tr>\n",
       "    <tr>\n",
       "      <td>2</td>\n",
       "      <td>2314660</td>\n",
       "      <td>0c673e046d824ec0ad0ebe012a0673e4</td>\n",
       "      <td>2018-11-17 00:38:27 UTC+0000</td>\n",
       "      <td>email_notification_daily</td>\n",
       "    </tr>\n",
       "    <tr>\n",
       "      <td>3</td>\n",
       "      <td>2312639</td>\n",
       "      <td>0c673e046d824ec0ad0ebe012a0673e4</td>\n",
       "      <td>2018-11-16 00:32:19 UTC+0000</td>\n",
       "      <td>email_notification_daily</td>\n",
       "    </tr>\n",
       "  </tbody>\n",
       "</table>\n",
       "</div>"
      ],
      "text/plain": [
       "   emails_id               emails_recipient_id              emails_date_sent  \\\n",
       "0  2337714    0c673e046d824ec0ad0ebe012a0673e4  2018-12-07 01:05:40 UTC+0000   \n",
       "1  2336077    0c673e046d824ec0ad0ebe012a0673e4  2018-12-06 01:14:15 UTC+0000   \n",
       "2  2314660    0c673e046d824ec0ad0ebe012a0673e4  2018-11-17 00:38:27 UTC+0000   \n",
       "3  2312639    0c673e046d824ec0ad0ebe012a0673e4  2018-11-16 00:32:19 UTC+0000   \n",
       "\n",
       "     emails_frequency_level  \n",
       "0  email_notification_daily  \n",
       "1  email_notification_daily  \n",
       "2  email_notification_daily  \n",
       "3  email_notification_daily  "
      ]
     },
     "execution_count": 30,
     "metadata": {},
     "output_type": "execute_result"
    }
   ],
   "source": [
    "emails.head(4)"
   ]
  },
  {
   "cell_type": "code",
   "execution_count": null,
   "metadata": {},
   "outputs": [],
   "source": [
    "emails[\"emails_date_sent\"] = pd.to_datetime(emails[\"emails_date_sent\"])"
   ]
  },
  {
   "cell_type": "code",
   "execution_count": 31,
   "metadata": {},
   "outputs": [
    {
     "data": {
      "text/plain": [
       "emails_id                 0\n",
       "emails_recipient_id       0\n",
       "emails_date_sent          0\n",
       "emails_frequency_level    0\n",
       "dtype: int64"
      ]
     },
     "execution_count": 31,
     "metadata": {},
     "output_type": "execute_result"
    }
   ],
   "source": [
    "emails.isnull().sum()"
   ]
  },
  {
   "cell_type": "markdown",
   "metadata": {},
   "source": [
    "group_memberships"
   ]
  },
  {
   "cell_type": "code",
   "execution_count": 32,
   "metadata": {},
   "outputs": [],
   "source": [
    "group_memberships = pd.read_csv(r\"C:\\Users\\meril\\Desktop\\Capstone\\group_memberships.csv\")"
   ]
  },
  {
   "cell_type": "code",
   "execution_count": 33,
   "metadata": {},
   "outputs": [
    {
     "name": "stdout",
     "output_type": "stream",
     "text": [
      "<class 'pandas.core.frame.DataFrame'>\n",
      "RangeIndex: 1038 entries, 0 to 1037\n",
      "Data columns (total 2 columns):\n",
      "group_memberships_group_id    1038 non-null object\n",
      "group_memberships_user_id     1038 non-null object\n",
      "dtypes: object(2)\n",
      "memory usage: 16.3+ KB\n"
     ]
    }
   ],
   "source": [
    "group_memberships.info()"
   ]
  },
  {
   "cell_type": "code",
   "execution_count": 34,
   "metadata": {},
   "outputs": [],
   "source": [
    "group_memberships.rename(columns = {\"group_memberships_group_id\":\"groups_id\",\"group_memberships_user_id\":\"user_id\"},inplace=True)"
   ]
  },
  {
   "cell_type": "code",
   "execution_count": 35,
   "metadata": {},
   "outputs": [
    {
     "data": {
      "text/html": [
       "<div>\n",
       "<style scoped>\n",
       "    .dataframe tbody tr th:only-of-type {\n",
       "        vertical-align: middle;\n",
       "    }\n",
       "\n",
       "    .dataframe tbody tr th {\n",
       "        vertical-align: top;\n",
       "    }\n",
       "\n",
       "    .dataframe thead th {\n",
       "        text-align: right;\n",
       "    }\n",
       "</style>\n",
       "<table border=\"1\" class=\"dataframe\">\n",
       "  <thead>\n",
       "    <tr style=\"text-align: right;\">\n",
       "      <th></th>\n",
       "      <th>groups_id</th>\n",
       "      <th>user_id</th>\n",
       "    </tr>\n",
       "  </thead>\n",
       "  <tbody>\n",
       "    <tr>\n",
       "      <td>0</td>\n",
       "      <td>eabbdf4029734c848a9da20779637d03</td>\n",
       "      <td>9a5aead62c344207b2624dba90985dc5</td>\n",
       "    </tr>\n",
       "    <tr>\n",
       "      <td>1</td>\n",
       "      <td>eabbdf4029734c848a9da20779637d03</td>\n",
       "      <td>ea7122da1c7b4244a2184a4f9f944053</td>\n",
       "    </tr>\n",
       "    <tr>\n",
       "      <td>2</td>\n",
       "      <td>eabbdf4029734c848a9da20779637d03</td>\n",
       "      <td>cba603f34acb4a40b3ccb53fe6681b5d</td>\n",
       "    </tr>\n",
       "    <tr>\n",
       "      <td>3</td>\n",
       "      <td>eabbdf4029734c848a9da20779637d03</td>\n",
       "      <td>fa9a126e63714641ae0145557a390cab</td>\n",
       "    </tr>\n",
       "  </tbody>\n",
       "</table>\n",
       "</div>"
      ],
      "text/plain": [
       "                          groups_id                           user_id\n",
       "0  eabbdf4029734c848a9da20779637d03  9a5aead62c344207b2624dba90985dc5\n",
       "1  eabbdf4029734c848a9da20779637d03  ea7122da1c7b4244a2184a4f9f944053\n",
       "2  eabbdf4029734c848a9da20779637d03  cba603f34acb4a40b3ccb53fe6681b5d\n",
       "3  eabbdf4029734c848a9da20779637d03  fa9a126e63714641ae0145557a390cab"
      ]
     },
     "execution_count": 35,
     "metadata": {},
     "output_type": "execute_result"
    }
   ],
   "source": [
    "group_memberships.head(4)"
   ]
  },
  {
   "cell_type": "code",
   "execution_count": 36,
   "metadata": {},
   "outputs": [
    {
     "data": {
      "text/plain": [
       "groups_id    0\n",
       "user_id      0\n",
       "dtype: int64"
      ]
     },
     "execution_count": 36,
     "metadata": {},
     "output_type": "execute_result"
    }
   ],
   "source": [
    "group_memberships.isnull().sum()"
   ]
  },
  {
   "cell_type": "markdown",
   "metadata": {},
   "source": [
    "Groups"
   ]
  },
  {
   "cell_type": "code",
   "execution_count": 37,
   "metadata": {},
   "outputs": [],
   "source": [
    "groups= pd.read_csv(r\"C:\\Users\\meril\\Desktop\\Capstone\\groups.csv\")"
   ]
  },
  {
   "cell_type": "code",
   "execution_count": 38,
   "metadata": {},
   "outputs": [
    {
     "name": "stdout",
     "output_type": "stream",
     "text": [
      "<class 'pandas.core.frame.DataFrame'>\n",
      "RangeIndex: 49 entries, 0 to 48\n",
      "Data columns (total 2 columns):\n",
      "groups_id            49 non-null object\n",
      "groups_group_type    49 non-null object\n",
      "dtypes: object(2)\n",
      "memory usage: 912.0+ bytes\n"
     ]
    }
   ],
   "source": [
    "groups.info()"
   ]
  },
  {
   "cell_type": "code",
   "execution_count": 39,
   "metadata": {},
   "outputs": [],
   "source": [
    "groups.rename(columns = {\"groups_group_type\":\"groups_type\"},inplace=True)"
   ]
  },
  {
   "cell_type": "code",
   "execution_count": 40,
   "metadata": {},
   "outputs": [
    {
     "data": {
      "text/html": [
       "<div>\n",
       "<style scoped>\n",
       "    .dataframe tbody tr th:only-of-type {\n",
       "        vertical-align: middle;\n",
       "    }\n",
       "\n",
       "    .dataframe tbody tr th {\n",
       "        vertical-align: top;\n",
       "    }\n",
       "\n",
       "    .dataframe thead th {\n",
       "        text-align: right;\n",
       "    }\n",
       "</style>\n",
       "<table border=\"1\" class=\"dataframe\">\n",
       "  <thead>\n",
       "    <tr style=\"text-align: right;\">\n",
       "      <th></th>\n",
       "      <th>groups_id</th>\n",
       "      <th>groups_type</th>\n",
       "    </tr>\n",
       "  </thead>\n",
       "  <tbody>\n",
       "    <tr>\n",
       "      <td>43</td>\n",
       "      <td>ab73e3e161b64543a194b46442b0f805</td>\n",
       "      <td>professional network</td>\n",
       "    </tr>\n",
       "    <tr>\n",
       "      <td>44</td>\n",
       "      <td>298f0e917129423d9c6b12f08d26416f</td>\n",
       "      <td>mentorship program</td>\n",
       "    </tr>\n",
       "    <tr>\n",
       "      <td>45</td>\n",
       "      <td>e2d6994350424f46a329cb3ba17e4893</td>\n",
       "      <td>youth program</td>\n",
       "    </tr>\n",
       "    <tr>\n",
       "      <td>46</td>\n",
       "      <td>66574765baa94b79a7e76b13f36a0d4a</td>\n",
       "      <td>youth program</td>\n",
       "    </tr>\n",
       "    <tr>\n",
       "      <td>47</td>\n",
       "      <td>a36cb039d1f4429a90a6b2c9de08dd39</td>\n",
       "      <td>professional network</td>\n",
       "    </tr>\n",
       "    <tr>\n",
       "      <td>48</td>\n",
       "      <td>e1a4d435bbd84deaae344c223f204742</td>\n",
       "      <td>professional network</td>\n",
       "    </tr>\n",
       "  </tbody>\n",
       "</table>\n",
       "</div>"
      ],
      "text/plain": [
       "                           groups_id           groups_type\n",
       "43  ab73e3e161b64543a194b46442b0f805  professional network\n",
       "44  298f0e917129423d9c6b12f08d26416f  mentorship program  \n",
       "45  e2d6994350424f46a329cb3ba17e4893  youth program       \n",
       "46  66574765baa94b79a7e76b13f36a0d4a  youth program       \n",
       "47  a36cb039d1f4429a90a6b2c9de08dd39  professional network\n",
       "48  e1a4d435bbd84deaae344c223f204742  professional network"
      ]
     },
     "execution_count": 40,
     "metadata": {},
     "output_type": "execute_result"
    }
   ],
   "source": [
    "groups.tail(6)"
   ]
  },
  {
   "cell_type": "code",
   "execution_count": 41,
   "metadata": {},
   "outputs": [
    {
     "data": {
      "text/plain": [
       "groups_id      0\n",
       "groups_type    0\n",
       "dtype: int64"
      ]
     },
     "execution_count": 41,
     "metadata": {},
     "output_type": "execute_result"
    }
   ],
   "source": [
    "groups.isnull().sum()"
   ]
  },
  {
   "cell_type": "markdown",
   "metadata": {},
   "source": [
    "Matches"
   ]
  },
  {
   "cell_type": "code",
   "execution_count": 42,
   "metadata": {},
   "outputs": [],
   "source": [
    "matches= pd.read_csv(r\"C:\\Users\\meril\\Desktop\\Capstone\\matches.csv\")"
   ]
  },
  {
   "cell_type": "code",
   "execution_count": 43,
   "metadata": {},
   "outputs": [
    {
     "name": "stdout",
     "output_type": "stream",
     "text": [
      "<class 'pandas.core.frame.DataFrame'>\n",
      "RangeIndex: 4316275 entries, 0 to 4316274\n",
      "Data columns (total 2 columns):\n",
      "matches_email_id       int64\n",
      "matches_question_id    object\n",
      "dtypes: int64(1), object(1)\n",
      "memory usage: 65.9+ MB\n"
     ]
    }
   ],
   "source": [
    "matches.info()"
   ]
  },
  {
   "cell_type": "code",
   "execution_count": 44,
   "metadata": {},
   "outputs": [],
   "source": [
    "matches.rename(columns = {\"matches_email_id\":\"emails_id\",\"matches_question_id\":\"questions_id\"},inplace=True)"
   ]
  },
  {
   "cell_type": "code",
   "execution_count": 45,
   "metadata": {},
   "outputs": [
    {
     "data": {
      "text/html": [
       "<div>\n",
       "<style scoped>\n",
       "    .dataframe tbody tr th:only-of-type {\n",
       "        vertical-align: middle;\n",
       "    }\n",
       "\n",
       "    .dataframe tbody tr th {\n",
       "        vertical-align: top;\n",
       "    }\n",
       "\n",
       "    .dataframe thead th {\n",
       "        text-align: right;\n",
       "    }\n",
       "</style>\n",
       "<table border=\"1\" class=\"dataframe\">\n",
       "  <thead>\n",
       "    <tr style=\"text-align: right;\">\n",
       "      <th></th>\n",
       "      <th>emails_id</th>\n",
       "      <th>questions_id</th>\n",
       "    </tr>\n",
       "  </thead>\n",
       "  <tbody>\n",
       "    <tr>\n",
       "      <td>0</td>\n",
       "      <td>1721939</td>\n",
       "      <td>332a511f1569444485cf7a7a556a5e54</td>\n",
       "    </tr>\n",
       "    <tr>\n",
       "      <td>1</td>\n",
       "      <td>1665388</td>\n",
       "      <td>332a511f1569444485cf7a7a556a5e54</td>\n",
       "    </tr>\n",
       "    <tr>\n",
       "      <td>2</td>\n",
       "      <td>1636634</td>\n",
       "      <td>332a511f1569444485cf7a7a556a5e54</td>\n",
       "    </tr>\n",
       "    <tr>\n",
       "      <td>3</td>\n",
       "      <td>1635498</td>\n",
       "      <td>332a511f1569444485cf7a7a556a5e54</td>\n",
       "    </tr>\n",
       "    <tr>\n",
       "      <td>4</td>\n",
       "      <td>1620298</td>\n",
       "      <td>332a511f1569444485cf7a7a556a5e54</td>\n",
       "    </tr>\n",
       "  </tbody>\n",
       "</table>\n",
       "</div>"
      ],
      "text/plain": [
       "   emails_id                      questions_id\n",
       "0  1721939    332a511f1569444485cf7a7a556a5e54\n",
       "1  1665388    332a511f1569444485cf7a7a556a5e54\n",
       "2  1636634    332a511f1569444485cf7a7a556a5e54\n",
       "3  1635498    332a511f1569444485cf7a7a556a5e54\n",
       "4  1620298    332a511f1569444485cf7a7a556a5e54"
      ]
     },
     "execution_count": 45,
     "metadata": {},
     "output_type": "execute_result"
    }
   ],
   "source": [
    "matches.head()"
   ]
  },
  {
   "cell_type": "code",
   "execution_count": 46,
   "metadata": {},
   "outputs": [
    {
     "data": {
      "text/plain": [
       "emails_id       0\n",
       "questions_id    0\n",
       "dtype: int64"
      ]
     },
     "execution_count": 46,
     "metadata": {},
     "output_type": "execute_result"
    }
   ],
   "source": [
    "matches.isnull().sum()"
   ]
  },
  {
   "cell_type": "markdown",
   "metadata": {},
   "source": [
    "Professionals"
   ]
  },
  {
   "cell_type": "code",
   "execution_count": 47,
   "metadata": {},
   "outputs": [],
   "source": [
    "professionals= pd.read_csv(r\"C:\\Users\\meril\\Desktop\\Capstone\\professionals.csv\")#index_col='professionals_id')"
   ]
  },
  {
   "cell_type": "code",
   "execution_count": 48,
   "metadata": {},
   "outputs": [
    {
     "name": "stdout",
     "output_type": "stream",
     "text": [
      "<class 'pandas.core.frame.DataFrame'>\n",
      "RangeIndex: 28152 entries, 0 to 28151\n",
      "Data columns (total 5 columns):\n",
      "professionals_id             28152 non-null object\n",
      "professionals_location       25054 non-null object\n",
      "professionals_industry       25576 non-null object\n",
      "professionals_headline       26085 non-null object\n",
      "professionals_date_joined    28152 non-null object\n",
      "dtypes: object(5)\n",
      "memory usage: 1.1+ MB\n"
     ]
    }
   ],
   "source": [
    "professionals.info()"
   ]
  },
  {
   "cell_type": "code",
   "execution_count": 49,
   "metadata": {},
   "outputs": [],
   "source": [
    "professionals[\"professionals_date_joined\"] = pd.to_datetime(professionals[\"professionals_date_joined\"])"
   ]
  },
  {
   "cell_type": "code",
   "execution_count": 50,
   "metadata": {},
   "outputs": [
    {
     "data": {
      "text/html": [
       "<div>\n",
       "<style scoped>\n",
       "    .dataframe tbody tr th:only-of-type {\n",
       "        vertical-align: middle;\n",
       "    }\n",
       "\n",
       "    .dataframe tbody tr th {\n",
       "        vertical-align: top;\n",
       "    }\n",
       "\n",
       "    .dataframe thead th {\n",
       "        text-align: right;\n",
       "    }\n",
       "</style>\n",
       "<table border=\"1\" class=\"dataframe\">\n",
       "  <thead>\n",
       "    <tr style=\"text-align: right;\">\n",
       "      <th></th>\n",
       "      <th>professionals_id</th>\n",
       "      <th>professionals_location</th>\n",
       "      <th>professionals_industry</th>\n",
       "      <th>professionals_headline</th>\n",
       "      <th>professionals_date_joined</th>\n",
       "    </tr>\n",
       "  </thead>\n",
       "  <tbody>\n",
       "    <tr>\n",
       "      <td>0</td>\n",
       "      <td>9ced4ce7519049c0944147afb75a8ce3</td>\n",
       "      <td>NaN</td>\n",
       "      <td>NaN</td>\n",
       "      <td>NaN</td>\n",
       "      <td>2011-10-05 20:35:19+00:00</td>\n",
       "    </tr>\n",
       "    <tr>\n",
       "      <td>1</td>\n",
       "      <td>f718dcf6d2ec4cb0a52a9db59d7f9e67</td>\n",
       "      <td>NaN</td>\n",
       "      <td>NaN</td>\n",
       "      <td>NaN</td>\n",
       "      <td>2011-10-05 20:49:21+00:00</td>\n",
       "    </tr>\n",
       "    <tr>\n",
       "      <td>2</td>\n",
       "      <td>0c673e046d824ec0ad0ebe012a0673e4</td>\n",
       "      <td>New York, New York</td>\n",
       "      <td>NaN</td>\n",
       "      <td>NaN</td>\n",
       "      <td>2011-10-18 17:31:26+00:00</td>\n",
       "    </tr>\n",
       "    <tr>\n",
       "      <td>3</td>\n",
       "      <td>977428d851b24183b223be0eb8619a8c</td>\n",
       "      <td>Boston, Massachusetts</td>\n",
       "      <td>NaN</td>\n",
       "      <td>NaN</td>\n",
       "      <td>2011-11-09 20:39:29+00:00</td>\n",
       "    </tr>\n",
       "  </tbody>\n",
       "</table>\n",
       "</div>"
      ],
      "text/plain": [
       "                   professionals_id professionals_location  \\\n",
       "0  9ced4ce7519049c0944147afb75a8ce3  NaN                     \n",
       "1  f718dcf6d2ec4cb0a52a9db59d7f9e67  NaN                     \n",
       "2  0c673e046d824ec0ad0ebe012a0673e4  New York, New York      \n",
       "3  977428d851b24183b223be0eb8619a8c  Boston, Massachusetts   \n",
       "\n",
       "  professionals_industry professionals_headline professionals_date_joined  \n",
       "0  NaN                    NaN                   2011-10-05 20:35:19+00:00  \n",
       "1  NaN                    NaN                   2011-10-05 20:49:21+00:00  \n",
       "2  NaN                    NaN                   2011-10-18 17:31:26+00:00  \n",
       "3  NaN                    NaN                   2011-11-09 20:39:29+00:00  "
      ]
     },
     "execution_count": 50,
     "metadata": {},
     "output_type": "execute_result"
    }
   ],
   "source": [
    "professionals.head(4)"
   ]
  },
  {
   "cell_type": "code",
   "execution_count": 51,
   "metadata": {},
   "outputs": [
    {
     "data": {
      "text/plain": [
       "professionals_id             0   \n",
       "professionals_location       3098\n",
       "professionals_industry       2576\n",
       "professionals_headline       2067\n",
       "professionals_date_joined    0   \n",
       "dtype: int64"
      ]
     },
     "execution_count": 51,
     "metadata": {},
     "output_type": "execute_result"
    }
   ],
   "source": [
    "professionals.isnull().sum()"
   ]
  },
  {
   "cell_type": "markdown",
   "metadata": {},
   "source": [
    "Questions"
   ]
  },
  {
   "cell_type": "code",
   "execution_count": 52,
   "metadata": {},
   "outputs": [],
   "source": [
    "questions= pd.read_csv(r\"C:\\Users\\meril\\Desktop\\Capstone\\questions.csv\")"
   ]
  },
  {
   "cell_type": "code",
   "execution_count": 53,
   "metadata": {},
   "outputs": [
    {
     "name": "stdout",
     "output_type": "stream",
     "text": [
      "<class 'pandas.core.frame.DataFrame'>\n",
      "RangeIndex: 23931 entries, 0 to 23930\n",
      "Data columns (total 5 columns):\n",
      "questions_id            23931 non-null object\n",
      "questions_author_id     23931 non-null object\n",
      "questions_date_added    23931 non-null object\n",
      "questions_title         23931 non-null object\n",
      "questions_body          23931 non-null object\n",
      "dtypes: object(5)\n",
      "memory usage: 934.9+ KB\n"
     ]
    }
   ],
   "source": [
    "questions.info()"
   ]
  },
  {
   "cell_type": "code",
   "execution_count": 54,
   "metadata": {},
   "outputs": [],
   "source": [
    "questions.rename(columns = {\"questions_author_id\":\"students_id\"},inplace=True)"
   ]
  },
  {
   "cell_type": "code",
   "execution_count": 55,
   "metadata": {},
   "outputs": [],
   "source": [
    "questions[\"questions_date_added\"] = pd.to_datetime(questions[\"questions_date_added\"])"
   ]
  },
  {
   "cell_type": "code",
   "execution_count": 56,
   "metadata": {},
   "outputs": [
    {
     "data": {
      "text/html": [
       "<div>\n",
       "<style scoped>\n",
       "    .dataframe tbody tr th:only-of-type {\n",
       "        vertical-align: middle;\n",
       "    }\n",
       "\n",
       "    .dataframe tbody tr th {\n",
       "        vertical-align: top;\n",
       "    }\n",
       "\n",
       "    .dataframe thead th {\n",
       "        text-align: right;\n",
       "    }\n",
       "</style>\n",
       "<table border=\"1\" class=\"dataframe\">\n",
       "  <thead>\n",
       "    <tr style=\"text-align: right;\">\n",
       "      <th></th>\n",
       "      <th>questions_id</th>\n",
       "      <th>students_id</th>\n",
       "      <th>questions_date_added</th>\n",
       "      <th>questions_title</th>\n",
       "      <th>questions_body</th>\n",
       "    </tr>\n",
       "  </thead>\n",
       "  <tbody>\n",
       "    <tr>\n",
       "      <td>0</td>\n",
       "      <td>332a511f1569444485cf7a7a556a5e54</td>\n",
       "      <td>8f6f374ffd834d258ab69d376dd998f5</td>\n",
       "      <td>2016-04-26 11:14:26+00:00</td>\n",
       "      <td>Teacher   career   question</td>\n",
       "      <td>What  is  a  maths  teacher?   what  is  a  maths  teacher  useful? #college #professor #lecture</td>\n",
       "    </tr>\n",
       "    <tr>\n",
       "      <td>1</td>\n",
       "      <td>eb80205482e4424cad8f16bc25aa2d9c</td>\n",
       "      <td>acccbda28edd4362ab03fb8b6fd2d67b</td>\n",
       "      <td>2016-05-20 16:48:25+00:00</td>\n",
       "      <td>I want to become an army officer. What can I do to become an army officer?</td>\n",
       "      <td>I am Priyanka from Bangalore . Now am in 10th std . When I go to college I should not get confused on what I want to take to become army officer. So I am asking this question  #military #army</td>\n",
       "    </tr>\n",
       "    <tr>\n",
       "      <td>2</td>\n",
       "      <td>4ec31632938a40b98909416bdd0decff</td>\n",
       "      <td>f2c179a563024ccc927399ce529094b5</td>\n",
       "      <td>2017-02-08 19:13:38+00:00</td>\n",
       "      <td>Will going abroad for your first job increase your chances for jobs back home?</td>\n",
       "      <td>I'm planning on going abroad for my first job. It will be a teaching job and I don't have any serious career ideas. I don't know what job I would be working if I stay home instead so I'm assuming staying or leaving won't makeba huge difference in what I care about, unless I find something before my first job. I can think of ways that going abroad can be seen as good and bad. I do not know which side respectable employers willl side with. #working-abroad #employment- #overseas</td>\n",
       "    </tr>\n",
       "    <tr>\n",
       "      <td>3</td>\n",
       "      <td>2f6a9a99d9b24e5baa50d40d0ba50a75</td>\n",
       "      <td>2c30ffba444e40eabb4583b55233a5a4</td>\n",
       "      <td>2017-09-01 14:05:32+00:00</td>\n",
       "      <td>To become a specialist in business  management, will I have to network myself?</td>\n",
       "      <td>i hear business management is a hard way to get a job if you're not known in the right areas. #business #networking</td>\n",
       "    </tr>\n",
       "  </tbody>\n",
       "</table>\n",
       "</div>"
      ],
      "text/plain": [
       "                       questions_id                       students_id  \\\n",
       "0  332a511f1569444485cf7a7a556a5e54  8f6f374ffd834d258ab69d376dd998f5   \n",
       "1  eb80205482e4424cad8f16bc25aa2d9c  acccbda28edd4362ab03fb8b6fd2d67b   \n",
       "2  4ec31632938a40b98909416bdd0decff  f2c179a563024ccc927399ce529094b5   \n",
       "3  2f6a9a99d9b24e5baa50d40d0ba50a75  2c30ffba444e40eabb4583b55233a5a4   \n",
       "\n",
       "       questions_date_added  \\\n",
       "0 2016-04-26 11:14:26+00:00   \n",
       "1 2016-05-20 16:48:25+00:00   \n",
       "2 2017-02-08 19:13:38+00:00   \n",
       "3 2017-09-01 14:05:32+00:00   \n",
       "\n",
       "                                                                  questions_title  \\\n",
       "0  Teacher   career   question                                                      \n",
       "1  I want to become an army officer. What can I do to become an army officer?       \n",
       "2  Will going abroad for your first job increase your chances for jobs back home?   \n",
       "3  To become a specialist in business  management, will I have to network myself?   \n",
       "\n",
       "                                                                                                                                                                                                                                                                                                                                                                                                                                                                                     questions_body  \n",
       "0  What  is  a  maths  teacher?   what  is  a  maths  teacher  useful? #college #professor #lecture                                                                                                                                                                                                                                                                                                                                                                                                  \n",
       "1  I am Priyanka from Bangalore . Now am in 10th std . When I go to college I should not get confused on what I want to take to become army officer. So I am asking this question  #military #army                                                                                                                                                                                                                                                                                                   \n",
       "2  I'm planning on going abroad for my first job. It will be a teaching job and I don't have any serious career ideas. I don't know what job I would be working if I stay home instead so I'm assuming staying or leaving won't makeba huge difference in what I care about, unless I find something before my first job. I can think of ways that going abroad can be seen as good and bad. I do not know which side respectable employers willl side with. #working-abroad #employment- #overseas  \n",
       "3  i hear business management is a hard way to get a job if you're not known in the right areas. #business #networking                                                                                                                                                                                                                                                                                                                                                                               "
      ]
     },
     "execution_count": 56,
     "metadata": {},
     "output_type": "execute_result"
    }
   ],
   "source": [
    "questions.head(4)"
   ]
  },
  {
   "cell_type": "code",
   "execution_count": 57,
   "metadata": {},
   "outputs": [
    {
     "data": {
      "text/plain": [
       "questions_id            0\n",
       "students_id             0\n",
       "questions_date_added    0\n",
       "questions_title         0\n",
       "questions_body          0\n",
       "dtype: int64"
      ]
     },
     "execution_count": 57,
     "metadata": {},
     "output_type": "execute_result"
    }
   ],
   "source": [
    "questions.isnull().sum()"
   ]
  },
  {
   "cell_type": "markdown",
   "metadata": {},
   "source": [
    "SchoolMemberships"
   ]
  },
  {
   "cell_type": "code",
   "execution_count": 58,
   "metadata": {},
   "outputs": [],
   "source": [
    "school_memberships= pd.read_csv(r\"C:\\Users\\meril\\Desktop\\Capstone\\school_memberships.csv\")"
   ]
  },
  {
   "cell_type": "code",
   "execution_count": 59,
   "metadata": {},
   "outputs": [
    {
     "name": "stdout",
     "output_type": "stream",
     "text": [
      "<class 'pandas.core.frame.DataFrame'>\n",
      "RangeIndex: 5638 entries, 0 to 5637\n",
      "Data columns (total 2 columns):\n",
      "school_memberships_school_id    5638 non-null int64\n",
      "school_memberships_user_id      5638 non-null object\n",
      "dtypes: int64(1), object(1)\n",
      "memory usage: 88.2+ KB\n"
     ]
    }
   ],
   "source": [
    "school_memberships.info()"
   ]
  },
  {
   "cell_type": "code",
   "execution_count": 60,
   "metadata": {},
   "outputs": [],
   "source": [
    "school_memberships.rename(columns = {\"school_memberships_school_id\":\"school_id\",\"school_memberships_user_id\":\"user_id\"},inplace=True)"
   ]
  },
  {
   "cell_type": "code",
   "execution_count": 61,
   "metadata": {},
   "outputs": [
    {
     "data": {
      "text/html": [
       "<div>\n",
       "<style scoped>\n",
       "    .dataframe tbody tr th:only-of-type {\n",
       "        vertical-align: middle;\n",
       "    }\n",
       "\n",
       "    .dataframe tbody tr th {\n",
       "        vertical-align: top;\n",
       "    }\n",
       "\n",
       "    .dataframe thead th {\n",
       "        text-align: right;\n",
       "    }\n",
       "</style>\n",
       "<table border=\"1\" class=\"dataframe\">\n",
       "  <thead>\n",
       "    <tr style=\"text-align: right;\">\n",
       "      <th></th>\n",
       "      <th>school_id</th>\n",
       "      <th>user_id</th>\n",
       "    </tr>\n",
       "  </thead>\n",
       "  <tbody>\n",
       "    <tr>\n",
       "      <td>0</td>\n",
       "      <td>197406</td>\n",
       "      <td>23dce13ca6164a73aec7a3cd56a4884d</td>\n",
       "    </tr>\n",
       "    <tr>\n",
       "      <td>1</td>\n",
       "      <td>197398</td>\n",
       "      <td>23dce13ca6164a73aec7a3cd56a4884d</td>\n",
       "    </tr>\n",
       "    <tr>\n",
       "      <td>2</td>\n",
       "      <td>199821</td>\n",
       "      <td>23dce13ca6164a73aec7a3cd56a4884d</td>\n",
       "    </tr>\n",
       "    <tr>\n",
       "      <td>3</td>\n",
       "      <td>186239</td>\n",
       "      <td>9c5803ae43ca4cf6b27ea85871625116</td>\n",
       "    </tr>\n",
       "  </tbody>\n",
       "</table>\n",
       "</div>"
      ],
      "text/plain": [
       "   school_id                           user_id\n",
       "0  197406     23dce13ca6164a73aec7a3cd56a4884d\n",
       "1  197398     23dce13ca6164a73aec7a3cd56a4884d\n",
       "2  199821     23dce13ca6164a73aec7a3cd56a4884d\n",
       "3  186239     9c5803ae43ca4cf6b27ea85871625116"
      ]
     },
     "execution_count": 61,
     "metadata": {},
     "output_type": "execute_result"
    }
   ],
   "source": [
    "school_memberships.head(4)"
   ]
  },
  {
   "cell_type": "code",
   "execution_count": 62,
   "metadata": {},
   "outputs": [
    {
     "data": {
      "text/plain": [
       "school_id    0\n",
       "user_id      0\n",
       "dtype: int64"
      ]
     },
     "execution_count": 62,
     "metadata": {},
     "output_type": "execute_result"
    }
   ],
   "source": [
    "school_memberships.isnull().sum()"
   ]
  },
  {
   "cell_type": "markdown",
   "metadata": {},
   "source": [
    "Students"
   ]
  },
  {
   "cell_type": "code",
   "execution_count": 63,
   "metadata": {},
   "outputs": [],
   "source": [
    "students= pd.read_csv(r\"C:\\Users\\meril\\Desktop\\Capstone\\students.csv\",index_col=\"students_id\")"
   ]
  },
  {
   "cell_type": "code",
   "execution_count": 64,
   "metadata": {},
   "outputs": [
    {
     "name": "stdout",
     "output_type": "stream",
     "text": [
      "<class 'pandas.core.frame.DataFrame'>\n",
      "Index: 30971 entries, 12a89e96755a4dba83ff03e03043d9c0 to 1de9d7d0329e40e6996bbc92d13c6a00\n",
      "Data columns (total 2 columns):\n",
      "students_location       28938 non-null object\n",
      "students_date_joined    30971 non-null object\n",
      "dtypes: object(2)\n",
      "memory usage: 725.9+ KB\n"
     ]
    }
   ],
   "source": [
    "students.info()"
   ]
  },
  {
   "cell_type": "code",
   "execution_count": 65,
   "metadata": {},
   "outputs": [],
   "source": [
    "students[\"students_date_joined\"] = pd.to_datetime(students[\"students_date_joined\"])"
   ]
  },
  {
   "cell_type": "code",
   "execution_count": 66,
   "metadata": {},
   "outputs": [
    {
     "data": {
      "text/plain": [
       "students_location       2033\n",
       "students_date_joined    0   \n",
       "dtype: int64"
      ]
     },
     "execution_count": 66,
     "metadata": {},
     "output_type": "execute_result"
    }
   ],
   "source": [
    "students.isnull().sum()"
   ]
  },
  {
   "cell_type": "markdown",
   "metadata": {},
   "source": [
    "TagQuestions"
   ]
  },
  {
   "cell_type": "code",
   "execution_count": 67,
   "metadata": {},
   "outputs": [],
   "source": [
    "tag_questions= pd.read_csv(r\"C:\\Users\\meril\\Desktop\\Capstone\\tag_questions.csv\")"
   ]
  },
  {
   "cell_type": "code",
   "execution_count": 68,
   "metadata": {},
   "outputs": [
    {
     "name": "stdout",
     "output_type": "stream",
     "text": [
      "<class 'pandas.core.frame.DataFrame'>\n",
      "RangeIndex: 76553 entries, 0 to 76552\n",
      "Data columns (total 2 columns):\n",
      "tag_questions_tag_id         76553 non-null int64\n",
      "tag_questions_question_id    76553 non-null object\n",
      "dtypes: int64(1), object(1)\n",
      "memory usage: 1.2+ MB\n"
     ]
    }
   ],
   "source": [
    "tag_questions.info()"
   ]
  },
  {
   "cell_type": "code",
   "execution_count": 69,
   "metadata": {},
   "outputs": [],
   "source": [
    "tag_questions.rename(columns = {\"tag_questions_tag_id\":\"tags_id\",\"tag_questions_question_id\":\"questions_id\"},inplace=True)"
   ]
  },
  {
   "cell_type": "code",
   "execution_count": 70,
   "metadata": {},
   "outputs": [
    {
     "data": {
      "text/plain": [
       "tags_id         0\n",
       "questions_id    0\n",
       "dtype: int64"
      ]
     },
     "execution_count": 70,
     "metadata": {},
     "output_type": "execute_result"
    }
   ],
   "source": [
    "tag_questions.isnull().sum()"
   ]
  },
  {
   "cell_type": "markdown",
   "metadata": {},
   "source": [
    "TagUsers"
   ]
  },
  {
   "cell_type": "code",
   "execution_count": 71,
   "metadata": {},
   "outputs": [],
   "source": [
    "tag_users= pd.read_csv(r\"C:\\Users\\meril\\Desktop\\Capstone\\tag_users.csv\")"
   ]
  },
  {
   "cell_type": "code",
   "execution_count": 72,
   "metadata": {
    "scrolled": true
   },
   "outputs": [
    {
     "name": "stdout",
     "output_type": "stream",
     "text": [
      "<class 'pandas.core.frame.DataFrame'>\n",
      "RangeIndex: 136663 entries, 0 to 136662\n",
      "Data columns (total 2 columns):\n",
      "tag_users_tag_id     136663 non-null int64\n",
      "tag_users_user_id    136663 non-null object\n",
      "dtypes: int64(1), object(1)\n",
      "memory usage: 2.1+ MB\n"
     ]
    }
   ],
   "source": [
    "tag_users.info()"
   ]
  },
  {
   "cell_type": "code",
   "execution_count": 73,
   "metadata": {},
   "outputs": [],
   "source": [
    "tag_users.rename(columns = {\"tag_users_tag_id\":\"tags_id\",\"tag_users_user_id\":\"user_id\"},inplace=True)"
   ]
  },
  {
   "cell_type": "code",
   "execution_count": 74,
   "metadata": {},
   "outputs": [
    {
     "data": {
      "text/plain": [
       "tags_id    0\n",
       "user_id    0\n",
       "dtype: int64"
      ]
     },
     "execution_count": 74,
     "metadata": {},
     "output_type": "execute_result"
    }
   ],
   "source": [
    "tag_users.isnull().sum()"
   ]
  },
  {
   "cell_type": "markdown",
   "metadata": {},
   "source": [
    "Tags"
   ]
  },
  {
   "cell_type": "code",
   "execution_count": 75,
   "metadata": {},
   "outputs": [],
   "source": [
    "tags= pd.read_csv(r\"C:\\Users\\meril\\Desktop\\Capstone\\tags.csv\")"
   ]
  },
  {
   "cell_type": "code",
   "execution_count": 76,
   "metadata": {},
   "outputs": [
    {
     "name": "stdout",
     "output_type": "stream",
     "text": [
      "<class 'pandas.core.frame.DataFrame'>\n",
      "RangeIndex: 16269 entries, 0 to 16268\n",
      "Data columns (total 2 columns):\n",
      "tags_tag_id      16269 non-null int64\n",
      "tags_tag_name    16268 non-null object\n",
      "dtypes: int64(1), object(1)\n",
      "memory usage: 254.3+ KB\n"
     ]
    }
   ],
   "source": [
    "tags.info()"
   ]
  },
  {
   "cell_type": "code",
   "execution_count": 77,
   "metadata": {},
   "outputs": [],
   "source": [
    "tags.rename(columns = {\"tags_tag_id\":\"tags_id\",\"tags_tag_name\":\"tag_name\"},inplace=True)"
   ]
  },
  {
   "cell_type": "code",
   "execution_count": 78,
   "metadata": {},
   "outputs": [
    {
     "data": {
      "text/html": [
       "<div>\n",
       "<style scoped>\n",
       "    .dataframe tbody tr th:only-of-type {\n",
       "        vertical-align: middle;\n",
       "    }\n",
       "\n",
       "    .dataframe tbody tr th {\n",
       "        vertical-align: top;\n",
       "    }\n",
       "\n",
       "    .dataframe thead th {\n",
       "        text-align: right;\n",
       "    }\n",
       "</style>\n",
       "<table border=\"1\" class=\"dataframe\">\n",
       "  <thead>\n",
       "    <tr style=\"text-align: right;\">\n",
       "      <th></th>\n",
       "      <th>tags_id</th>\n",
       "      <th>tag_name</th>\n",
       "    </tr>\n",
       "  </thead>\n",
       "  <tbody>\n",
       "    <tr>\n",
       "      <td>0</td>\n",
       "      <td>27490</td>\n",
       "      <td>college</td>\n",
       "    </tr>\n",
       "    <tr>\n",
       "      <td>1</td>\n",
       "      <td>461</td>\n",
       "      <td>computer-science</td>\n",
       "    </tr>\n",
       "    <tr>\n",
       "      <td>2</td>\n",
       "      <td>593</td>\n",
       "      <td>computer-software</td>\n",
       "    </tr>\n",
       "    <tr>\n",
       "      <td>3</td>\n",
       "      <td>27292</td>\n",
       "      <td>business</td>\n",
       "    </tr>\n",
       "  </tbody>\n",
       "</table>\n",
       "</div>"
      ],
      "text/plain": [
       "   tags_id           tag_name\n",
       "0  27490    college          \n",
       "1  461      computer-science \n",
       "2  593      computer-software\n",
       "3  27292    business         "
      ]
     },
     "execution_count": 78,
     "metadata": {},
     "output_type": "execute_result"
    }
   ],
   "source": [
    "tags.head(4)"
   ]
  },
  {
   "cell_type": "code",
   "execution_count": 79,
   "metadata": {},
   "outputs": [
    {
     "data": {
      "text/plain": [
       "tags_id     0\n",
       "tag_name    1\n",
       "dtype: int64"
      ]
     },
     "execution_count": 79,
     "metadata": {},
     "output_type": "execute_result"
    }
   ],
   "source": [
    "tags.isnull().sum()"
   ]
  },
  {
   "cell_type": "markdown",
   "metadata": {},
   "source": [
    "QuestionScores"
   ]
  },
  {
   "cell_type": "code",
   "execution_count": 80,
   "metadata": {},
   "outputs": [],
   "source": [
    "question_scores= pd.read_csv(r\"C:\\Users\\meril\\Desktop\\Capstone\\question_scores.csv\")"
   ]
  },
  {
   "cell_type": "code",
   "execution_count": 81,
   "metadata": {},
   "outputs": [
    {
     "name": "stdout",
     "output_type": "stream",
     "text": [
      "<class 'pandas.core.frame.DataFrame'>\n",
      "RangeIndex: 23928 entries, 0 to 23927\n",
      "Data columns (total 2 columns):\n",
      "id       23928 non-null object\n",
      "score    23928 non-null int64\n",
      "dtypes: int64(1), object(1)\n",
      "memory usage: 374.0+ KB\n"
     ]
    }
   ],
   "source": [
    "question_scores.info()"
   ]
  },
  {
   "cell_type": "code",
   "execution_count": 82,
   "metadata": {},
   "outputs": [
    {
     "data": {
      "text/html": [
       "<div>\n",
       "<style scoped>\n",
       "    .dataframe tbody tr th:only-of-type {\n",
       "        vertical-align: middle;\n",
       "    }\n",
       "\n",
       "    .dataframe tbody tr th {\n",
       "        vertical-align: top;\n",
       "    }\n",
       "\n",
       "    .dataframe thead th {\n",
       "        text-align: right;\n",
       "    }\n",
       "</style>\n",
       "<table border=\"1\" class=\"dataframe\">\n",
       "  <thead>\n",
       "    <tr style=\"text-align: right;\">\n",
       "      <th></th>\n",
       "      <th>id</th>\n",
       "      <th>score</th>\n",
       "    </tr>\n",
       "  </thead>\n",
       "  <tbody>\n",
       "    <tr>\n",
       "      <td>0</td>\n",
       "      <td>38436aadef3d4b608ad089cf53ab0fe7</td>\n",
       "      <td>5</td>\n",
       "    </tr>\n",
       "    <tr>\n",
       "      <td>1</td>\n",
       "      <td>edb8c179c5d64c9cb812a59a32045f55</td>\n",
       "      <td>4</td>\n",
       "    </tr>\n",
       "    <tr>\n",
       "      <td>2</td>\n",
       "      <td>333464d7484b43e3866e86096bc4ddb9</td>\n",
       "      <td>6</td>\n",
       "    </tr>\n",
       "    <tr>\n",
       "      <td>3</td>\n",
       "      <td>4b995e60b99d4ee18346e893e007cb8f</td>\n",
       "      <td>6</td>\n",
       "    </tr>\n",
       "  </tbody>\n",
       "</table>\n",
       "</div>"
      ],
      "text/plain": [
       "                                 id  score\n",
       "0  38436aadef3d4b608ad089cf53ab0fe7  5    \n",
       "1  edb8c179c5d64c9cb812a59a32045f55  4    \n",
       "2  333464d7484b43e3866e86096bc4ddb9  6    \n",
       "3  4b995e60b99d4ee18346e893e007cb8f  6    "
      ]
     },
     "execution_count": 82,
     "metadata": {},
     "output_type": "execute_result"
    }
   ],
   "source": [
    "question_scores.head(4)"
   ]
  },
  {
   "cell_type": "code",
   "execution_count": 83,
   "metadata": {},
   "outputs": [
    {
     "data": {
      "text/plain": [
       "id       0\n",
       "score    0\n",
       "dtype: int64"
      ]
     },
     "execution_count": 83,
     "metadata": {},
     "output_type": "execute_result"
    }
   ],
   "source": [
    "question_scores.isnull().sum()"
   ]
  },
  {
   "cell_type": "markdown",
   "metadata": {},
   "source": [
    "AnswerScores"
   ]
  },
  {
   "cell_type": "code",
   "execution_count": 84,
   "metadata": {},
   "outputs": [],
   "source": [
    "answer_scores= pd.read_csv(r\"C:\\Users\\meril\\Desktop\\Capstone\\answer_scores.csv\")"
   ]
  },
  {
   "cell_type": "code",
   "execution_count": 85,
   "metadata": {},
   "outputs": [
    {
     "name": "stdout",
     "output_type": "stream",
     "text": [
      "<class 'pandas.core.frame.DataFrame'>\n",
      "RangeIndex: 51138 entries, 0 to 51137\n",
      "Data columns (total 2 columns):\n",
      "id       51138 non-null object\n",
      "score    51138 non-null int64\n",
      "dtypes: int64(1), object(1)\n",
      "memory usage: 799.2+ KB\n"
     ]
    }
   ],
   "source": [
    "answer_scores.info()"
   ]
  },
  {
   "cell_type": "code",
   "execution_count": 86,
   "metadata": {},
   "outputs": [
    {
     "data": {
      "text/plain": [
       "id       0\n",
       "score    0\n",
       "dtype: int64"
      ]
     },
     "execution_count": 86,
     "metadata": {},
     "output_type": "execute_result"
    }
   ],
   "source": [
    "answer_scores.isnull().sum()"
   ]
  },
  {
   "cell_type": "markdown",
   "metadata": {},
   "source": [
    "Exploratory Data Analysis"
   ]
  },
  {
   "cell_type": "code",
   "execution_count": 87,
   "metadata": {
    "scrolled": false
   },
   "outputs": [
    {
     "data": {
      "image/png": "[encoded data removed]",
      "text/plain": [
       "<Figure size 1008x720 with 1 Axes>"
      ]
     },
     "metadata": {
      "needs_background": "light"
     },
     "output_type": "display_data"
    },
    {
     "data": {
      "image/png": "[encoded data removed]",
      "text/plain": [
       "<Figure size 1008x720 with 1 Axes>"
      ]
     },
     "metadata": {
      "needs_background": "light"
     },
     "output_type": "display_data"
    }
   ],
   "source": [
    "users = [('students',students),('professionals',professionals)]\n",
    "for user,df in users:\n",
    "    locations = df[f'{user}_location'].value_counts().sort_values(ascending = True).tail(15)\n",
    "    graph = locations.plot.barh(figsize = (14,10),width = 0.8,fontsize = 14)\n",
    "    graph.set_title(f'Top 15 {user} Locations',fontsize = 20)\n",
    "    graph.set_xlabel(f'Number of {user}',fontsize = 14)\n",
    "    for b in graph.patches:\n",
    "        graph.annotate(str(b.get_width()),(b.get_width(),b.get_y()),fontsize = 14)\n",
    "    plt.show()"
   ]
  },
  {
   "cell_type": "code",
   "execution_count": 288,
   "metadata": {},
   "outputs": [
    {
     "data": {
      "image/png": "[encoded data removed]",
      "text/plain": [
       "<Figure size 720x576 with 1 Axes>"
      ]
     },
     "metadata": {
      "needs_background": "light"
     },
     "output_type": "display_data"
    }
   ],
   "source": [
    "professionals_industries = professionals.professionals_industry.value_counts().sort_values(ascending=True).tail(15)\n",
    "ax = professionals_industries.plot(kind='barh',figsize=(10, 8),width=0.8) \n",
    "ax.set_title(\"Top 15 industries Professionals belong to\", fontsize=20)\n",
    "ax.set_xlabel('Number of Professionals', fontsize=12)\n",
    "for p in ax.patches:\n",
    "     ax.annotate(str(p.get_width()), (p.get_width() * 1.005, p.get_y() * 1.005))"
   ]
  },
  {
   "cell_type": "code",
   "execution_count": 88,
   "metadata": {},
   "outputs": [
    {
     "name": "stdout",
     "output_type": "stream",
     "text": [
      "Earliest Date joined by students is 2011-12-16 14:19:24+00:00\n",
      "Most recent date joined by students is 2019-01-31 23:13:23+00:00\n",
      "   years  Users\n",
      "0  2011   2    \n",
      "1  2012   453  \n",
      "2  2013   570  \n",
      "3  2014   1722 \n",
      "4  2015   2576 \n",
      "5  2016   12108\n",
      "6  2017   5535 \n",
      "7  2018   7748 \n",
      "8  2019   257  \n"
     ]
    },
    {
     "data": {
      "image/png": "[encoded data removed]",
      "text/plain": [
       "<Figure size 432x288 with 1 Axes>"
      ]
     },
     "metadata": {
      "needs_background": "light"
     },
     "output_type": "display_data"
    },
    {
     "name": "stdout",
     "output_type": "stream",
     "text": [
      "   years  Users\n",
      "0  2011   2    \n",
      "1  2012   455  \n",
      "2  2013   1025 \n",
      "3  2014   2747 \n",
      "4  2015   5323 \n",
      "5  2016   17431\n",
      "6  2017   22966\n",
      "7  2018   30714\n",
      "8  2019   30971\n"
     ]
    },
    {
     "data": {
      "image/png": "[encoded data removed]",
      "text/plain": [
       "<Figure size 1008x360 with 1 Axes>"
      ]
     },
     "metadata": {
      "needs_background": "light"
     },
     "output_type": "display_data"
    },
    {
     "name": "stdout",
     "output_type": "stream",
     "text": [
      "Earliest Date joined by professionals is 2011-10-05 20:35:19+00:00\n",
      "Most recent date joined by professionals is 2019-01-31 23:59:09+00:00\n",
      "   years  Users\n",
      "0  2011   57   \n",
      "1  2012   222  \n",
      "2  2013   429  \n",
      "3  2014   987  \n",
      "4  2015   1540 \n",
      "5  2016   5618 \n",
      "6  2017   6322 \n",
      "7  2018   11572\n",
      "8  2019   1405 \n"
     ]
    },
    {
     "data": {
      "image/png": "[encoded data removed]",
      "text/plain": [
       "<Figure size 432x288 with 1 Axes>"
      ]
     },
     "metadata": {
      "needs_background": "light"
     },
     "output_type": "display_data"
    },
    {
     "name": "stdout",
     "output_type": "stream",
     "text": [
      "   years  Users\n",
      "0  2011   57   \n",
      "1  2012   279  \n",
      "2  2013   708  \n",
      "3  2014   1695 \n",
      "4  2015   3235 \n",
      "5  2016   8853 \n",
      "6  2017   15175\n",
      "7  2018   26747\n",
      "8  2019   28152\n"
     ]
    },
    {
     "data": {
      "image/png": "[encoded data removed]",
      "text/plain": [
       "<Figure size 1008x360 with 1 Axes>"
      ]
     },
     "metadata": {
      "needs_background": "light"
     },
     "output_type": "display_data"
    }
   ],
   "source": [
    "for user,df in users:\n",
    "    years = df[f'{user}_date_joined'].dt.year.unique()\n",
    "    years.sort\n",
    "    earliest_date = df[f'{user}_date_joined'].min()\n",
    "    print(f'Earliest Date joined by {user} is {earliest_date}')\n",
    "    earliest_date = earliest_date.strftime(\"%B %Y\")\n",
    "    recent_date = df[f'{user}_date_joined'].max()\n",
    "    print(f'Most recent date joined by {user} is {recent_date}') \n",
    "    recent_date = recent_date.strftime(\"%B %Y\")\n",
    "    NoOfUsers = [len(df[df[f'{user}_date_joined'].dt.year == y])for y in years]\n",
    "    toplot1 = pd.DataFrame({'years':years,'Users':NoOfUsers})\n",
    "    print(toplot1)\n",
    "    plt.plot('years','Users',data = toplot1 , marker = 'o')\n",
    "    x = toplot1['years']\n",
    "    y = toplot1['Users']\n",
    "    plt.ylabel('Users',fontsize = 14)\n",
    "    plt.title(f'No of {user} joined during Each Year',fontsize = 20)\n",
    "    plt.show()\n",
    "    for i in range(len(NoOfUsers)):\n",
    "        if i > 0 :\n",
    "            NoOfUsers[i] = NoOfUsers[i] + NoOfUsers[i-1]\n",
    "    toplot = pd.DataFrame({'years':years,'Users':NoOfUsers})\n",
    "    print(toplot)\n",
    "    plt.figure(figsize=(14,5))\n",
    "    plt.plot('years','Users',data = toplot,marker = 'o')\n",
    "    x = toplot['years']\n",
    "    y = toplot['Users']\n",
    "    plt.ylabel('Users',fontsize = 14)\n",
    "    plt.title(f'Growth of {user}',fontsize = 20)\n",
    "    plt.show()\n",
    "        "
   ]
  },
  {
   "cell_type": "code",
   "execution_count": 78,
   "metadata": {},
   "outputs": [
    {
     "name": "stdout",
     "output_type": "stream",
     "text": [
      "Earliest date questions was added is 2011-09-27 15:23:17+00:00\n",
      "Recent date questions was added is 2019-01-31 22:32:00+00:00\n",
      "year\n",
      "2011      29\n",
      "2012     435\n",
      "2013     157\n",
      "2014    1007\n",
      "2015    1466\n",
      "2016    9281\n",
      "2017    3255\n",
      "2018    7994\n",
      "2019     307\n",
      "dtype: int64\n"
     ]
    },
    {
     "data": {
      "image/png": "[encoded data removed]",
      "text/plain": [
       "<Figure size 1008x360 with 1 Axes>"
      ]
     },
     "metadata": {
      "needs_background": "light"
     },
     "output_type": "display_data"
    },
    {
     "name": "stdout",
     "output_type": "stream",
     "text": [
      "Earliest date answers was added is 2011-10-05 20:33:04+00:00\n",
      "Recent date answers was added is 2019-01-31 23:47:27+00:00\n",
      "year\n",
      "2011       34\n",
      "2012      692\n",
      "2013      432\n",
      "2014     2468\n",
      "2015     3103\n",
      "2016    14377\n",
      "2017    12440\n",
      "2018    16726\n",
      "2019      851\n",
      "dtype: int64\n"
     ]
    },
    {
     "data": {
      "image/png": "[encoded data removed]",
      "text/plain": [
       "<Figure size 1008x360 with 1 Axes>"
      ]
     },
     "metadata": {
      "needs_background": "light"
     },
     "output_type": "display_data"
    }
   ],
   "source": [
    "entities = [('questions',questions),('answers',answers)]\n",
    "for entity,df in entities:\n",
    "    earliest_date = df[f'{entity}_date_added'].min()\n",
    "    print(f'Earliest date {entity} was added is {earliest_date}')\n",
    "    earliest_date = earliest_date.strftime(\"%B %Y\")\n",
    "    recent_date = df[f'{entity}_date_added'].max()\n",
    "    print(f'Recent date {entity} was added is {recent_date}')\n",
    "    recent_date = recent_date.strftime(\"%B %Y\")\n",
    "    df['year'] = df[f'{entity}_date_added'].dt.year\n",
    "    countdata = df.groupby('year').size()\n",
    "    print(countdata)\n",
    "    countdata.plot(figsize =(14,5),marker = 'o')\n",
    "    x = countdata.reset_index()['year']\n",
    "    y = countdata.reset_index()[0]\n",
    "    plt.xlabel('Year',fontsize = 15)\n",
    "    plt.ylabel(f'{entity} count',fontsize = 15)\n",
    "    plt.title(f'Number of {entity} asked from {earliest_date} to {recent_date}',fontsize = 20)\n",
    "    plt.show()\n",
    "    "
   ]
  },
  {
   "cell_type": "code",
   "execution_count": 79,
   "metadata": {},
   "outputs": [],
   "source": [
    "from collections import Counter "
   ]
  },
  {
   "cell_type": "code",
   "execution_count": 85,
   "metadata": {},
   "outputs": [
    {
     "name": "stdout",
     "output_type": "stream",
     "text": [
      "   questions  NoOfStudents\n",
      "0          1          5811\n",
      "1          2          5110\n",
      "2          3           639\n",
      "3          4           304\n",
      "4          5            88\n",
      "5          6           102\n",
      "6          7            50\n",
      "7          8            25\n",
      "8          9            23\n",
      "9         10            47\n"
     ]
    },
    {
     "data": {
      "image/png": "[encoded data removed]",
      "text/plain": [
       "<Figure size 1008x360 with 1 Axes>"
      ]
     },
     "metadata": {
      "needs_background": "light"
     },
     "output_type": "display_data"
    }
   ],
   "source": [
    "#Merged the questions and students dataframe and grouped them by Students_id and converted to key value pairs\n",
    "sq=dict(sorted(Counter(pd.merge(students,questions).groupby(\"students_id\").size().values).items()))\n",
    "#create a dataframe with the key value pairs\n",
    "sq1 = {}\n",
    "sq1['questions'] = list(sq.keys())\n",
    "sq1['NoOfStudents'] = list(sq.values())\n",
    "sq_df = pd.DataFrame(sq1)\n",
    "print(sq_df.head(10))\n",
    "sq_df.plot('questions','NoOfStudents',kind = 'bar',figsize = (14,5))\n",
    "plt.xlabel('questions',fontsize = 15)\n",
    "plt.ylabel('NoOfStudents',fontsize = 15)\n",
    "plt.title('No Of Questions posted by Students',fontsize = 20)\n",
    "plt.show()\n"
   ]
  },
  {
   "cell_type": "code",
   "execution_count": 86,
   "metadata": {},
   "outputs": [
    {
     "name": "stdout",
     "output_type": "stream",
     "text": [
      "Mean Number of questions asked by each student : 1.941033336036986\n",
      "Minimum Number of questions asked by a student : 1\n",
      "Maximum Number of questions asked by a student : 93\n"
     ]
    }
   ],
   "source": [
    "questionsgroup = questions.groupby(\"students_id\")[\"questions_id\"].count()\n",
    "print(f'Mean Number of questions asked by each student : {questionsgroup.mean()}')\n",
    "print(f'Minimum Number of questions asked by a student : {questionsgroup.min()}')\n",
    "print(f'Maximum Number of questions asked by a student : {questionsgroup.max()}')\n"
   ]
  },
  {
   "cell_type": "code",
   "execution_count": 87,
   "metadata": {},
   "outputs": [
    {
     "data": {
      "text/plain": [
       "students_id\n",
       "2fe767de78fa4dfd83f0021cf7712064    93\n",
       "45852d7b04fd40a0b8e3d92c8a37aad0    84\n",
       "867e779f9dad4020925e986151ca4be4    77\n",
       "83f2f05cbbfe4b8c88b9758c15ab803a    73\n",
       "0a49a80de472412988aac14f93b06374    72\n",
       "ef401e9115574bad94b773b4244f37cc    71\n",
       "803037dbdf424a13895161723fb1e88a    48\n",
       "94cf86c4b2ed40d6ad21cfd3f8b01ece    45\n",
       "b4656e510759496fb570b582b803a54e    43\n",
       "eb49a3a84aba4dd1bd7671860e007fa2    41\n",
       "Name: questions_id, dtype: int64"
      ]
     },
     "execution_count": 87,
     "metadata": {},
     "output_type": "execute_result"
    }
   ],
   "source": [
    "questionsgroup.nlargest(10)"
   ]
  },
  {
   "cell_type": "code",
   "execution_count": 88,
   "metadata": {},
   "outputs": [
    {
     "data": {
      "image/png": "[encoded data removed]",
      "text/plain": [
       "<Figure size 864x576 with 1 Axes>"
      ]
     },
     "metadata": {
      "needs_background": "light"
     },
     "output_type": "display_data"
    }
   ],
   "source": [
    "ques_count = questions[\"students_id\"].value_counts().head(10)\n",
    "plt.figure(figsize=(12,8))\n",
    "sns.barplot(ques_count.values, ques_count.index)\n",
    "plt.xlabel(\"No Of Questions\", fontsize=15)\n",
    "plt.ylabel(\"Students Id\", fontsize=15)\n",
    "plt.title(\"Top 10 Students\",fontsize = 20)\n",
    "plt.show()"
   ]
  },
  {
   "cell_type": "code",
   "execution_count": 89,
   "metadata": {},
   "outputs": [
    {
     "name": "stdout",
     "output_type": "stream",
     "text": [
      "   answers  NoOfProfessionals\n",
      "0        1               4225\n",
      "1        2               1862\n",
      "2        3               1084\n",
      "3        4                652\n",
      "4        5                478\n",
      "5        6                318\n",
      "6        7                207\n",
      "7        8                157\n",
      "8        9                115\n",
      "9       10                135\n"
     ]
    },
    {
     "data": {
      "image/png": "[encoded data removed]",
      "text/plain": [
       "<Figure size 1008x360 with 1 Axes>"
      ]
     },
     "metadata": {
      "needs_background": "light"
     },
     "output_type": "display_data"
    }
   ],
   "source": [
    "#Merged the answers and professionals dataframe and grouped them by professionals_id and converted to key value pairs\n",
    "pa=dict(sorted(Counter(pd.merge(professionals,answers).groupby(\"professionals_id\").size().values).items()))\n",
    "#create a dataframe with the key value pairs\n",
    "pa1 = {}\n",
    "pa1['answers'] = list(pa.keys())\n",
    "pa1['NoOfProfessionals'] = list(pa.values())\n",
    "pa_df = pd.DataFrame(pa1)\n",
    "print(pa_df.head(10))\n",
    "pa_df.plot('answers','NoOfProfessionals',kind = 'bar',figsize = (14,5))\n",
    "plt.xlabel('answers',fontsize = 15)\n",
    "plt.ylabel('NoOfProfessional',fontsize = 15)\n",
    "plt.title('No Of Answers posted by Professionals',fontsize = 20)\n",
    "plt.xlim(-1,30)\n",
    "plt.show()"
   ]
  },
  {
   "cell_type": "code",
   "execution_count": 90,
   "metadata": {},
   "outputs": [
    {
     "name": "stdout",
     "output_type": "stream",
     "text": [
      "Mean Number of questions answered by each professional : 5.0273379880027536\n",
      "Minimum Number of questions answered by each professional : 1\n",
      "Maximum Number of questions answered by a professional : 1710\n"
     ]
    }
   ],
   "source": [
    "answersgroup = answers.groupby(\"professionals_id\")[\"answers_id\"].count()\n",
    "print(f'Mean Number of questions answered by each professional : {answersgroup.mean()}')\n",
    "print(f'Minimum Number of questions answered by each professional : {answersgroup.min()}')\n",
    "print(f'Maximum Number of questions answered by a professional : {answersgroup.max()}')\n"
   ]
  },
  {
   "cell_type": "code",
   "execution_count": 91,
   "metadata": {},
   "outputs": [
    {
     "data": {
      "text/plain": [
       "professionals_id\n",
       "36ff3b3666df400f956f8335cf53e09e    1710\n",
       "58fa5e95fe9e480a9349bbb1d7faaddb    1112\n",
       "a1006e6a58a0447592e2435caa230f78     915\n",
       "be5d23056fcb4f1287c823beec5291e1     711\n",
       "05ab77d4c6a141b999044ebbf5415b0d     616\n",
       "369f1c8646b649f6997eae7809696bd5     406\n",
       "a6d33c38902546849c36ea7e9e9f0870     259\n",
       "05444a2f42454327b2ac4b463c0adbe0     257\n",
       "4dc61581ec7b409bbd037e483f53ba0a     217\n",
       "c3b4e11154f74a858779be7ba9b6f00c     210\n",
       "Name: answers_id, dtype: int64"
      ]
     },
     "execution_count": 91,
     "metadata": {},
     "output_type": "execute_result"
    }
   ],
   "source": [
    "answersgroup.nlargest(10)"
   ]
  },
  {
   "cell_type": "code",
   "execution_count": 92,
   "metadata": {},
   "outputs": [
    {
     "data": {
      "image/png": "[encoded data removed]",
      "text/plain": [
       "<Figure size 864x576 with 1 Axes>"
      ]
     },
     "metadata": {
      "needs_background": "light"
     },
     "output_type": "display_data"
    }
   ],
   "source": [
    "ans_count = answers[\"professionals_id\"].value_counts().head(10)\n",
    "plt.figure(figsize=(12,8))\n",
    "sns.barplot(ans_count.values, ans_count.index)\n",
    "plt.xlabel(\"No Of Answers\", fontsize=15)\n",
    "plt.ylabel(\"Professioanls Id\", fontsize=15)\n",
    "plt.title(\"Top 10 Professionals\",fontsize = 20)\n",
    "plt.show()"
   ]
  },
  {
   "cell_type": "code",
   "execution_count": 93,
   "metadata": {},
   "outputs": [
    {
     "data": {
      "text/plain": [
       "Text(0.5, 1.0, 'Days for first answers')"
      ]
     },
     "execution_count": 93,
     "metadata": {},
     "output_type": "execute_result"
    },
    {
     "data": {
      "image/png": "[encoded data removed]",
      "text/plain": [
       "<Figure size 1008x360 with 1 Axes>"
      ]
     },
     "metadata": {
      "needs_background": "light"
     },
     "output_type": "display_data"
    }
   ],
   "source": [
    "df = questions\n",
    "min_date = '01-01-2011'\n",
    "max_date = '01-01-2019'\n",
    "temp = answers[['questions_id','answers_date_added']].groupby('questions_id').min()\n",
    "df['questions_first_answers'] = pd.merge(questions,pd.DataFrame(temp),left_on = 'questions_id',right_index = True,how = 'left')['answers_date_added']\n",
    "df = ((df['questions_first_answers']-df['questions_date_added']).dt.days).fillna(10000).astype(int)\n",
    "#print(df)\n",
    "#print(df.groupby(df).size())\n",
    "#print(len(df.index))\n",
    "df = df.groupby(df).size()/len(df.index)\n",
    "df = df.rename(lambda x: 0 if x < 0 else x)\n",
    "df = df.rename(lambda x: x if x <= 10 or x== 10000 else '>10')\n",
    "df = df.rename({10000:'Nan'})\n",
    "df = df.groupby(level = 0).sum()\n",
    "ques = pd.DataFrame({'Questions':df})\n",
    "ques.plot(kind = 'bar',figsize = (14,5))\n",
    "plt.xlabel('Days',fontsize = 15)\n",
    "plt.ylabel('Ratio',fontsize = 15)\n",
    "plt.title('Days for first answers',fontsize = 20)"
   ]
  },
  {
   "cell_type": "code",
   "execution_count": 97,
   "metadata": {},
   "outputs": [
    {
     "name": "stdout",
     "output_type": "stream",
     "text": [
      "Intersting Statistics\n",
      "96.57% of the questions have at least 1 answer.\n",
      "97.31% of questions are tagged by atleast 1 tag.\n",
      "Mean number of tags per question :3.29 tags per question.\n",
      "90.91 % of the professionals follow at least 1 Tag (25594).\n",
      "14.88 % of the students follow at least 1 Tag (4608)\n"
     ]
    }
   ],
   "source": [
    "print(\"Intersting Statistics\")\n",
    "print(f'{answers[\"questions_id\"].nunique()/len(questions) * 100:0.2f}% of the questions have at least 1 answer.')\n",
    "count_questions_tags = tag_questions.groupby('questions_id').count().rename(columns = {'tags_id':'count_tags'}).sort_values('count_tags',ascending = False)\n",
    "print(f'{(len(count_questions_tags)/len(questions))*100:0.2f}% of questions are tagged by atleast {count_questions_tags[\"count_tags\"].tail(1).values[0]} tag.')\n",
    "print(f'Mean number of tags per question :{count_questions_tags[\"count_tags\"].mean():.2f} tags per question.')\n",
    "users_who_follow_tags = list(tag_users['user_id'].unique())\n",
    "nbr_prof_tags = len(professionals[professionals.index.isin(users_who_follow_tags)])\n",
    "nbr_studs_tags = len(students[students.index.isin(users_who_follow_tags)])\n",
    "print(f'{(nbr_prof_tags/len(professionals))*100:0.2f} % of the professionals follow at least 1 Tag ({nbr_prof_tags}).')  \n",
    "print(f'{(nbr_studs_tags/len(students))*100:0.2f} % of the students follow at least 1 Tag ({nbr_studs_tags})')"
   ]
  },
  {
   "cell_type": "markdown",
   "metadata": {},
   "source": [
    "Modelling"
   ]
  },
  {
   "cell_type": "markdown",
   "metadata": {},
   "source": [
    "Model 1"
   ]
  },
  {
   "cell_type": "code",
   "execution_count": 109,
   "metadata": {},
   "outputs": [],
   "source": [
    "questions[\"timestamp\"] = questions.apply(lambda x:to_date(x['questions_date_added']),axis = 1)\n",
    "questions[\"year\"]=questions.apply(lambda x: to_year(x['timestamp']),axis=1)\n",
    "questions['month']=questions.apply(lambda x: to_yr_mon(x['timestamp']),axis=1)"
   ]
  },
  {
   "cell_type": "code",
   "execution_count": 114,
   "metadata": {},
   "outputs": [
    {
     "data": {
      "text/html": [
       "<div>\n",
       "<style scoped>\n",
       "    .dataframe tbody tr th:only-of-type {\n",
       "        vertical-align: middle;\n",
       "    }\n",
       "\n",
       "    .dataframe tbody tr th {\n",
       "        vertical-align: top;\n",
       "    }\n",
       "\n",
       "    .dataframe thead th {\n",
       "        text-align: right;\n",
       "    }\n",
       "</style>\n",
       "<table border=\"1\" class=\"dataframe\">\n",
       "  <thead>\n",
       "    <tr style=\"text-align: right;\">\n",
       "      <th></th>\n",
       "      <th>0</th>\n",
       "      <th>1</th>\n",
       "      <th>2</th>\n",
       "    </tr>\n",
       "  </thead>\n",
       "  <tbody>\n",
       "    <tr>\n",
       "      <td>questions_id</td>\n",
       "      <td>332a511f1569444485cf7a7a556a5e54</td>\n",
       "      <td>eb80205482e4424cad8f16bc25aa2d9c</td>\n",
       "      <td>4ec31632938a40b98909416bdd0decff</td>\n",
       "    </tr>\n",
       "    <tr>\n",
       "      <td>students_id</td>\n",
       "      <td>8f6f374ffd834d258ab69d376dd998f5</td>\n",
       "      <td>acccbda28edd4362ab03fb8b6fd2d67b</td>\n",
       "      <td>f2c179a563024ccc927399ce529094b5</td>\n",
       "    </tr>\n",
       "    <tr>\n",
       "      <td>questions_date_added</td>\n",
       "      <td>2016-04-26 11:14:26+00:00</td>\n",
       "      <td>2016-05-20 16:48:25+00:00</td>\n",
       "      <td>2017-02-08 19:13:38+00:00</td>\n",
       "    </tr>\n",
       "    <tr>\n",
       "      <td>questions_title</td>\n",
       "      <td>Teacher   career   question</td>\n",
       "      <td>I want to become an army officer. What can I do to become an army officer?</td>\n",
       "      <td>Will going abroad for your first job increase your chances for jobs back home?</td>\n",
       "    </tr>\n",
       "    <tr>\n",
       "      <td>questions_body</td>\n",
       "      <td>What  is  a  maths  teacher?   what  is  a  maths  teacher  useful? #college #professor #lecture</td>\n",
       "      <td>I am Priyanka from Bangalore . Now am in 10th std . When I go to college I should not get confused on what I want to take to become army officer. So I am asking this question  #military #army</td>\n",
       "      <td>I'm planning on going abroad for my first job. It will be a teaching job and I don't have any serious career ideas. I don't know what job I would be working if I stay home instead so I'm assuming staying or leaving won't makeba huge difference in what I care about, unless I find something before my first job. I can think of ways that going abroad can be seen as good and bad. I do not know which side respectable employers willl side with. #working-abroad #employment- #overseas</td>\n",
       "    </tr>\n",
       "    <tr>\n",
       "      <td>year</td>\n",
       "      <td>2016</td>\n",
       "      <td>2016</td>\n",
       "      <td>2017</td>\n",
       "    </tr>\n",
       "    <tr>\n",
       "      <td>questions_first_answers</td>\n",
       "      <td>2016-04-29 19:40:14+00:00</td>\n",
       "      <td>2018-05-01 14:19:08+00:00</td>\n",
       "      <td>2017-05-10 19:00:47+00:00</td>\n",
       "    </tr>\n",
       "    <tr>\n",
       "      <td>timestamp</td>\n",
       "      <td>2016-04-26 11:14:26</td>\n",
       "      <td>2016-05-20 16:48:25</td>\n",
       "      <td>2017-02-08 19:13:38</td>\n",
       "    </tr>\n",
       "    <tr>\n",
       "      <td>month</td>\n",
       "      <td>2016-04</td>\n",
       "      <td>2016-05</td>\n",
       "      <td>2017-02</td>\n",
       "    </tr>\n",
       "  </tbody>\n",
       "</table>\n",
       "</div>"
      ],
      "text/plain": [
       "                                                                                                                        0  \\\n",
       "questions_id             332a511f1569444485cf7a7a556a5e54                                                                   \n",
       "students_id              8f6f374ffd834d258ab69d376dd998f5                                                                   \n",
       "questions_date_added     2016-04-26 11:14:26+00:00                                                                          \n",
       "questions_title          Teacher   career   question                                                                        \n",
       "questions_body           What  is  a  maths  teacher?   what  is  a  maths  teacher  useful? #college #professor #lecture   \n",
       "year                     2016                                                                                               \n",
       "questions_first_answers  2016-04-29 19:40:14+00:00                                                                          \n",
       "timestamp                2016-04-26 11:14:26                                                                                \n",
       "month                    2016-04                                                                                            \n",
       "\n",
       "                                                                                                                                                                                                                       1  \\\n",
       "questions_id             eb80205482e4424cad8f16bc25aa2d9c                                                                                                                                                                  \n",
       "students_id              acccbda28edd4362ab03fb8b6fd2d67b                                                                                                                                                                  \n",
       "questions_date_added     2016-05-20 16:48:25+00:00                                                                                                                                                                         \n",
       "questions_title          I want to become an army officer. What can I do to become an army officer?                                                                                                                        \n",
       "questions_body           I am Priyanka from Bangalore . Now am in 10th std . When I go to college I should not get confused on what I want to take to become army officer. So I am asking this question  #military #army   \n",
       "year                     2016                                                                                                                                                                                              \n",
       "questions_first_answers  2018-05-01 14:19:08+00:00                                                                                                                                                                         \n",
       "timestamp                2016-05-20 16:48:25                                                                                                                                                                               \n",
       "month                    2016-05                                                                                                                                                                                           \n",
       "\n",
       "                                                                                                                                                                                                                                                                                                                                                                                                                                                                                                                        2  \n",
       "questions_id             4ec31632938a40b98909416bdd0decff                                                                                                                                                                                                                                                                                                                                                                                                                                                                  \n",
       "students_id              f2c179a563024ccc927399ce529094b5                                                                                                                                                                                                                                                                                                                                                                                                                                                                  \n",
       "questions_date_added     2017-02-08 19:13:38+00:00                                                                                                                                                                                                                                                                                                                                                                                                                                                                         \n",
       "questions_title          Will going abroad for your first job increase your chances for jobs back home?                                                                                                                                                                                                                                                                                                                                                                                                                    \n",
       "questions_body           I'm planning on going abroad for my first job. It will be a teaching job and I don't have any serious career ideas. I don't know what job I would be working if I stay home instead so I'm assuming staying or leaving won't makeba huge difference in what I care about, unless I find something before my first job. I can think of ways that going abroad can be seen as good and bad. I do not know which side respectable employers willl side with. #working-abroad #employment- #overseas  \n",
       "year                     2017                                                                                                                                                                                                                                                                                                                                                                                                                                                                                              \n",
       "questions_first_answers  2017-05-10 19:00:47+00:00                                                                                                                                                                                                                                                                                                                                                                                                                                                                         \n",
       "timestamp                2017-02-08 19:13:38                                                                                                                                                                                                                                                                                                                                                                                                                                                                               \n",
       "month                    2017-02                                                                                                                                                                                                                                                                                                                                                                                                                                                                                           "
      ]
     },
     "execution_count": 114,
     "metadata": {},
     "output_type": "execute_result"
    }
   ],
   "source": [
    "questions.head(3).T"
   ]
  },
  {
   "cell_type": "code",
   "execution_count": 89,
   "metadata": {},
   "outputs": [
    {
     "data": {
      "text/html": [
       "<div>\n",
       "<style scoped>\n",
       "    .dataframe tbody tr th:only-of-type {\n",
       "        vertical-align: middle;\n",
       "    }\n",
       "\n",
       "    .dataframe tbody tr th {\n",
       "        vertical-align: top;\n",
       "    }\n",
       "\n",
       "    .dataframe thead th {\n",
       "        text-align: right;\n",
       "    }\n",
       "</style>\n",
       "<table border=\"1\" class=\"dataframe\">\n",
       "  <thead>\n",
       "    <tr style=\"text-align: right;\">\n",
       "      <th></th>\n",
       "      <th>tags_id</th>\n",
       "      <th>questions_id</th>\n",
       "    </tr>\n",
       "  </thead>\n",
       "  <tbody>\n",
       "    <tr>\n",
       "      <td>12839</td>\n",
       "      <td>1707</td>\n",
       "      <td>0003e7bf48f24b5c985f8fce96e611f3</td>\n",
       "    </tr>\n",
       "    <tr>\n",
       "      <td>59166</td>\n",
       "      <td>33630</td>\n",
       "      <td>0003e7bf48f24b5c985f8fce96e611f3</td>\n",
       "    </tr>\n",
       "    <tr>\n",
       "      <td>48543</td>\n",
       "      <td>27510</td>\n",
       "      <td>0003e7bf48f24b5c985f8fce96e611f3</td>\n",
       "    </tr>\n",
       "    <tr>\n",
       "      <td>29372</td>\n",
       "      <td>27330</td>\n",
       "      <td>0003e7bf48f24b5c985f8fce96e611f3</td>\n",
       "    </tr>\n",
       "    <tr>\n",
       "      <td>23735</td>\n",
       "      <td>18073</td>\n",
       "      <td>0003e7bf48f24b5c985f8fce96e611f3</td>\n",
       "    </tr>\n",
       "    <tr>\n",
       "      <td>59956</td>\n",
       "      <td>29649</td>\n",
       "      <td>0003e7bf48f24b5c985f8fce96e611f3</td>\n",
       "    </tr>\n",
       "    <tr>\n",
       "      <td>43792</td>\n",
       "      <td>18370</td>\n",
       "      <td>0006609dd4da40dcaa5a83e0499aba14</td>\n",
       "    </tr>\n",
       "    <tr>\n",
       "      <td>42995</td>\n",
       "      <td>18360</td>\n",
       "      <td>0006609dd4da40dcaa5a83e0499aba14</td>\n",
       "    </tr>\n",
       "    <tr>\n",
       "      <td>32359</td>\n",
       "      <td>18156</td>\n",
       "      <td>000af224bc2f4e94a19f8b62ba279cc4</td>\n",
       "    </tr>\n",
       "    <tr>\n",
       "      <td>7919</td>\n",
       "      <td>51</td>\n",
       "      <td>000af224bc2f4e94a19f8b62ba279cc4</td>\n",
       "    </tr>\n",
       "    <tr>\n",
       "      <td>30173</td>\n",
       "      <td>12217</td>\n",
       "      <td>000b30fb534b41f7b716fa9ebf9c3f35</td>\n",
       "    </tr>\n",
       "    <tr>\n",
       "      <td>34018</td>\n",
       "      <td>18216</td>\n",
       "      <td>000b30fb534b41f7b716fa9ebf9c3f35</td>\n",
       "    </tr>\n",
       "    <tr>\n",
       "      <td>74570</td>\n",
       "      <td>25883</td>\n",
       "      <td>000b30fb534b41f7b716fa9ebf9c3f35</td>\n",
       "    </tr>\n",
       "    <tr>\n",
       "      <td>5633</td>\n",
       "      <td>29</td>\n",
       "      <td>000b30fb534b41f7b716fa9ebf9c3f35</td>\n",
       "    </tr>\n",
       "    <tr>\n",
       "      <td>57042</td>\n",
       "      <td>33245</td>\n",
       "      <td>0018752e44b44e26bb74a0a43232b4d6</td>\n",
       "    </tr>\n",
       "  </tbody>\n",
       "</table>\n",
       "</div>"
      ],
      "text/plain": [
       "       tags_id                      questions_id\n",
       "12839  1707     0003e7bf48f24b5c985f8fce96e611f3\n",
       "59166  33630    0003e7bf48f24b5c985f8fce96e611f3\n",
       "48543  27510    0003e7bf48f24b5c985f8fce96e611f3\n",
       "29372  27330    0003e7bf48f24b5c985f8fce96e611f3\n",
       "23735  18073    0003e7bf48f24b5c985f8fce96e611f3\n",
       "59956  29649    0003e7bf48f24b5c985f8fce96e611f3\n",
       "43792  18370    0006609dd4da40dcaa5a83e0499aba14\n",
       "42995  18360    0006609dd4da40dcaa5a83e0499aba14\n",
       "32359  18156    000af224bc2f4e94a19f8b62ba279cc4\n",
       "7919   51       000af224bc2f4e94a19f8b62ba279cc4\n",
       "30173  12217    000b30fb534b41f7b716fa9ebf9c3f35\n",
       "34018  18216    000b30fb534b41f7b716fa9ebf9c3f35\n",
       "74570  25883    000b30fb534b41f7b716fa9ebf9c3f35\n",
       "5633   29       000b30fb534b41f7b716fa9ebf9c3f35\n",
       "57042  33245    0018752e44b44e26bb74a0a43232b4d6"
      ]
     },
     "execution_count": 89,
     "metadata": {},
     "output_type": "execute_result"
    }
   ],
   "source": [
    "#Check the number of tags for each question\n",
    "tag_questions.sort_values('questions_id')[:15]"
   ]
  },
  {
   "cell_type": "code",
   "execution_count": 91,
   "metadata": {},
   "outputs": [
    {
     "name": "stdout",
     "output_type": "stream",
     "text": [
      "                           questions_id                tag_name\n",
      "12839  0003e7bf48f24b5c985f8fce96e611f3  internship            \n",
      "59166  0003e7bf48f24b5c985f8fce96e611f3  majoring              \n",
      "48543  0003e7bf48f24b5c985f8fce96e611f3  information-technology\n",
      "29372  0003e7bf48f24b5c985f8fce96e611f3  high-school           \n",
      "23735  0003e7bf48f24b5c985f8fce96e611f3  technology            \n",
      "59956  0003e7bf48f24b5c985f8fce96e611f3  time                  \n",
      "43792  0006609dd4da40dcaa5a83e0499aba14  law                   \n",
      "42995  0006609dd4da40dcaa5a83e0499aba14  psychology            \n",
      "32359  000af224bc2f4e94a19f8b62ba279cc4  marine                \n",
      "7919   000af224bc2f4e94a19f8b62ba279cc4  biology               \n",
      "30173  000b30fb534b41f7b716fa9ebf9c3f35  exercise-science      \n",
      "34018  000b30fb534b41f7b716fa9ebf9c3f35  school                \n",
      "74570  000b30fb534b41f7b716fa9ebf9c3f35  exercise              \n",
      "5633   000b30fb534b41f7b716fa9ebf9c3f35  teaching              \n",
      "57042  0018752e44b44e26bb74a0a43232b4d6  puremathematics       \n"
     ]
    },
    {
     "data": {
      "text/html": [
       "<div>\n",
       "<style scoped>\n",
       "    .dataframe tbody tr th:only-of-type {\n",
       "        vertical-align: middle;\n",
       "    }\n",
       "\n",
       "    .dataframe tbody tr th {\n",
       "        vertical-align: top;\n",
       "    }\n",
       "\n",
       "    .dataframe thead th {\n",
       "        text-align: right;\n",
       "    }\n",
       "</style>\n",
       "<table border=\"1\" class=\"dataframe\">\n",
       "  <thead>\n",
       "    <tr style=\"text-align: right;\">\n",
       "      <th></th>\n",
       "      <th>tag_name</th>\n",
       "    </tr>\n",
       "    <tr>\n",
       "      <th>questions_id</th>\n",
       "      <th></th>\n",
       "    </tr>\n",
       "  </thead>\n",
       "  <tbody>\n",
       "    <tr>\n",
       "      <td>0003e7bf48f24b5c985f8fce96e611f3</td>\n",
       "      <td>internship technology high-school information-technology majoring time</td>\n",
       "    </tr>\n",
       "    <tr>\n",
       "      <td>0006609dd4da40dcaa5a83e0499aba14</td>\n",
       "      <td>psychology law</td>\n",
       "    </tr>\n",
       "    <tr>\n",
       "      <td>000af224bc2f4e94a19f8b62ba279cc4</td>\n",
       "      <td>biology marine</td>\n",
       "    </tr>\n",
       "    <tr>\n",
       "      <td>000b30fb534b41f7b716fa9ebf9c3f35</td>\n",
       "      <td>teaching exercise-science school exercise</td>\n",
       "    </tr>\n",
       "    <tr>\n",
       "      <td>0018752e44b44e26bb74a0a43232b4d6</td>\n",
       "      <td>math puremathematics</td>\n",
       "    </tr>\n",
       "    <tr>\n",
       "      <td>0025b917219c4a24ba5fe260ca66ca98</td>\n",
       "      <td>forensic criminal-justice college</td>\n",
       "    </tr>\n",
       "    <tr>\n",
       "      <td>00269cdc24fd4a3c93aad485688c240b</td>\n",
       "      <td>videogames videogamesmaking gaming</td>\n",
       "    </tr>\n",
       "    <tr>\n",
       "      <td>002b07f6281a407ca49ee8b3538e5e45</td>\n",
       "      <td>programming</td>\n",
       "    </tr>\n",
       "    <tr>\n",
       "      <td>002c5689a0b642a3940f99b68f5364b6</td>\n",
       "      <td>clinical-psychology psychiatry pre-med psychiatrists</td>\n",
       "    </tr>\n",
       "    <tr>\n",
       "      <td>0031077b31454fadae1754e871e84457</td>\n",
       "      <td>interior-decorator interior-design</td>\n",
       "    </tr>\n",
       "  </tbody>\n",
       "</table>\n",
       "</div>"
      ],
      "text/plain": [
       "                                                                                                tag_name\n",
       "questions_id                                                                                            \n",
       "0003e7bf48f24b5c985f8fce96e611f3  internship technology high-school information-technology majoring time\n",
       "0006609dd4da40dcaa5a83e0499aba14  psychology law                                                        \n",
       "000af224bc2f4e94a19f8b62ba279cc4  biology marine                                                        \n",
       "000b30fb534b41f7b716fa9ebf9c3f35  teaching exercise-science school exercise                             \n",
       "0018752e44b44e26bb74a0a43232b4d6  math puremathematics                                                  \n",
       "0025b917219c4a24ba5fe260ca66ca98  forensic criminal-justice college                                     \n",
       "00269cdc24fd4a3c93aad485688c240b  videogames videogamesmaking gaming                                    \n",
       "002b07f6281a407ca49ee8b3538e5e45  programming                                                           \n",
       "002c5689a0b642a3940f99b68f5364b6  clinical-psychology psychiatry pre-med psychiatrists                  \n",
       "0031077b31454fadae1754e871e84457  interior-decorator interior-design                                    "
      ]
     },
     "execution_count": 91,
     "metadata": {},
     "output_type": "execute_result"
    }
   ],
   "source": [
    "#Creating Tag-String\n",
    "tagnames = pd.merge(tag_questions,tags)\n",
    "tagnames = tagnames.drop(['tags_id'],axis = 1)\n",
    "print(tagnames.sort_values('questions_id')[:15])\n",
    "tagnames_pivot = tagnames.pivot_table(index = 'questions_id',values = 'tag_name',aggfunc = lambda x: \" \".join(x))\n",
    "tagnames_pivot.head(10)\n",
    "#tagnames_pivot[\"questions_id\"] = tagnames_pivot.index"
   ]
  },
  {
   "cell_type": "code",
   "execution_count": 92,
   "metadata": {},
   "outputs": [
    {
     "name": "stdout",
     "output_type": "stream",
     "text": [
      "Number of questions asked : 23931 \n",
      "Number of questions with tags : 23288\n"
     ]
    }
   ],
   "source": [
    "tagnames_pivot['questions_id']=tagnames_pivot.index\n",
    "print(f'Number of questions asked : {questions[\"questions_id\"].count()} ')\n",
    "print(f'Number of questions with tags : {len(tagnames_pivot)}')\n",
    "tagnames_pivot = tagnames_pivot.reset_index(drop = True)"
   ]
  },
  {
   "cell_type": "code",
   "execution_count": 163,
   "metadata": {},
   "outputs": [
    {
     "name": "stdout",
     "output_type": "stream",
     "text": [
      "Example :- \n",
      "QuestionsId : 0003e7bf48f24b5c985f8fce96e611f3\n",
      "QuestionBody : 6150    I am a Junior in H.S. right now i am thinking about doing a double major in my tech academy, they have a guaranteed internship if you do this. But i am thinking if its worth it. Two tech classes back to back for the whole senior year. I take college classes at my nearest community college, so i know for a fact that i don't have soo much time to give to something that will not gonna help me or its worth it. \\n\\n#information-technology  #majoring  #technology \\n#internship #time #high-school \n",
      "Name: questions_body, dtype: object\n",
      "TagNames : internship technology high-school information-technology majoring time\n"
     ]
    }
   ],
   "source": [
    "print(f'Example :- \\nQuestionsId : {tagnames_pivot.iloc(0)[0][\"questions_id\"]}')\n",
    "print(f'QuestionBody : {questions.loc[questions[\"questions_id\"] == tagnames_pivot.iloc(0)[0][\"questions_id\"]][\"questions_body\"]}')\n",
    "print(f'TagNames : {tagnames_pivot.iloc(0)[0][\"tag_name\"]}')      "
   ]
  },
  {
   "cell_type": "code",
   "execution_count": 93,
   "metadata": {},
   "outputs": [
    {
     "name": "stdout",
     "output_type": "stream",
     "text": [
      "Number of questions with tags : 23288\n"
     ]
    },
    {
     "data": {
      "text/html": [
       "<div>\n",
       "<style scoped>\n",
       "    .dataframe tbody tr th:only-of-type {\n",
       "        vertical-align: middle;\n",
       "    }\n",
       "\n",
       "    .dataframe tbody tr th {\n",
       "        vertical-align: top;\n",
       "    }\n",
       "\n",
       "    .dataframe thead th {\n",
       "        text-align: right;\n",
       "    }\n",
       "</style>\n",
       "<table border=\"1\" class=\"dataframe\">\n",
       "  <thead>\n",
       "    <tr style=\"text-align: right;\">\n",
       "      <th></th>\n",
       "      <th>0</th>\n",
       "      <th>1</th>\n",
       "      <th>2</th>\n",
       "    </tr>\n",
       "  </thead>\n",
       "  <tbody>\n",
       "    <tr>\n",
       "      <td>questions_id</td>\n",
       "      <td>332a511f1569444485cf7a7a556a5e54</td>\n",
       "      <td>eb80205482e4424cad8f16bc25aa2d9c</td>\n",
       "      <td>4ec31632938a40b98909416bdd0decff</td>\n",
       "    </tr>\n",
       "    <tr>\n",
       "      <td>students_id</td>\n",
       "      <td>8f6f374ffd834d258ab69d376dd998f5</td>\n",
       "      <td>acccbda28edd4362ab03fb8b6fd2d67b</td>\n",
       "      <td>f2c179a563024ccc927399ce529094b5</td>\n",
       "    </tr>\n",
       "    <tr>\n",
       "      <td>questions_date_added</td>\n",
       "      <td>2016-04-26 11:14:26+00:00</td>\n",
       "      <td>2016-05-20 16:48:25+00:00</td>\n",
       "      <td>2017-02-08 19:13:38+00:00</td>\n",
       "    </tr>\n",
       "    <tr>\n",
       "      <td>questions_title</td>\n",
       "      <td>Teacher   career   question</td>\n",
       "      <td>I want to become an army officer. What can I do to become an army officer?</td>\n",
       "      <td>Will going abroad for your first job increase your chances for jobs back home?</td>\n",
       "    </tr>\n",
       "    <tr>\n",
       "      <td>questions_body</td>\n",
       "      <td>What  is  a  maths  teacher?   what  is  a  maths  teacher  useful? #college #professor #lecture</td>\n",
       "      <td>I am Priyanka from Bangalore . Now am in 10th std . When I go to college I should not get confused on what I want to take to become army officer. So I am asking this question  #military #army</td>\n",
       "      <td>I'm planning on going abroad for my first job. It will be a teaching job and I don't have any serious career ideas. I don't know what job I would be working if I stay home instead so I'm assuming staying or leaving won't makeba huge difference in what I care about, unless I find something before my first job. I can think of ways that going abroad can be seen as good and bad. I do not know which side respectable employers willl side with. #working-abroad #employment- #overseas</td>\n",
       "    </tr>\n",
       "    <tr>\n",
       "      <td>tag_name</td>\n",
       "      <td>lecture college professor</td>\n",
       "      <td>military army</td>\n",
       "      <td>overseas working-abroad</td>\n",
       "    </tr>\n",
       "  </tbody>\n",
       "</table>\n",
       "</div>"
      ],
      "text/plain": [
       "                                                                                                                     0  \\\n",
       "questions_id          332a511f1569444485cf7a7a556a5e54                                                                   \n",
       "students_id           8f6f374ffd834d258ab69d376dd998f5                                                                   \n",
       "questions_date_added  2016-04-26 11:14:26+00:00                                                                          \n",
       "questions_title       Teacher   career   question                                                                        \n",
       "questions_body        What  is  a  maths  teacher?   what  is  a  maths  teacher  useful? #college #professor #lecture   \n",
       "tag_name              lecture college professor                                                                          \n",
       "\n",
       "                                                                                                                                                                                                                    1  \\\n",
       "questions_id          eb80205482e4424cad8f16bc25aa2d9c                                                                                                                                                                  \n",
       "students_id           acccbda28edd4362ab03fb8b6fd2d67b                                                                                                                                                                  \n",
       "questions_date_added  2016-05-20 16:48:25+00:00                                                                                                                                                                         \n",
       "questions_title       I want to become an army officer. What can I do to become an army officer?                                                                                                                        \n",
       "questions_body        I am Priyanka from Bangalore . Now am in 10th std . When I go to college I should not get confused on what I want to take to become army officer. So I am asking this question  #military #army   \n",
       "tag_name              military army                                                                                                                                                                                     \n",
       "\n",
       "                                                                                                                                                                                                                                                                                                                                                                                                                                                                                                                     2  \n",
       "questions_id          4ec31632938a40b98909416bdd0decff                                                                                                                                                                                                                                                                                                                                                                                                                                                                  \n",
       "students_id           f2c179a563024ccc927399ce529094b5                                                                                                                                                                                                                                                                                                                                                                                                                                                                  \n",
       "questions_date_added  2017-02-08 19:13:38+00:00                                                                                                                                                                                                                                                                                                                                                                                                                                                                         \n",
       "questions_title       Will going abroad for your first job increase your chances for jobs back home?                                                                                                                                                                                                                                                                                                                                                                                                                    \n",
       "questions_body        I'm planning on going abroad for my first job. It will be a teaching job and I don't have any serious career ideas. I don't know what job I would be working if I stay home instead so I'm assuming staying or leaving won't makeba huge difference in what I care about, unless I find something before my first job. I can think of ways that going abroad can be seen as good and bad. I do not know which side respectable employers willl side with. #working-abroad #employment- #overseas  \n",
       "tag_name              overseas working-abroad                                                                                                                                                                                                                                                                                                                                                                                                                                                                           "
      ]
     },
     "execution_count": 93,
     "metadata": {},
     "output_type": "execute_result"
    }
   ],
   "source": [
    "#Combining questions with corresponding tags\n",
    "questions_tags = pd.merge(questions,tagnames_pivot)\n",
    "print(f'Number of questions with tags : {len(questions_tags)}')\n",
    "questions_tags.head(3).T"
   ]
  },
  {
   "cell_type": "code",
   "execution_count": 94,
   "metadata": {},
   "outputs": [
    {
     "data": {
      "text/plain": [
       "0    Teacher   career   questionWhat  is  a  maths  teacher?   what  is  a  maths  teacher  useful? #college #professor #lecturelecture college professor                                                                                                                                  \n",
       "1    I want to become an army officer. What can I do to become an army officer?I am Priyanka from Bangalore . Now am in 10th std . When I go to college I should not get confused on what I want to take to become army officer. So I am asking this question  #military #armymilitary army\n",
       "dtype: object"
      ]
     },
     "execution_count": 94,
     "metadata": {},
     "output_type": "execute_result"
    }
   ],
   "source": [
    "#Combine QuestionTitle,Body and Tagnames\n",
    "questions_corpus = questions_tags[\"questions_title\"] + questions_tags[\"questions_body\"] + questions_tags[\"tag_name\"]\n",
    "questions[\"text\"] = questions_tags[\"questions_title\"] + questions_tags[\"questions_body\"] + questions_tags[\"tag_name\"]\n",
    "questions_corpus.head(2)"
   ]
  },
  {
   "cell_type": "code",
   "execution_count": 95,
   "metadata": {},
   "outputs": [
    {
     "name": "stdout",
     "output_type": "stream",
     "text": [
      "Dictionary(34586 unique tokens: ['#', '?', 'a', 'career', 'college']...)\n"
     ]
    }
   ],
   "source": [
    "#Text Processing\n",
    "#Tokenizing Data\n",
    "gen_docs = [[w.lower() for w in word_tokenize(text)] for text in questions_corpus]\n",
    "#Creating Dictionary\n",
    "dictionary = gensim.corpora.Dictionary(gen_docs)\n",
    "print(dictionary)\n",
    "#To see the unique ids \n",
    "#print(dictionary.token2id)\n",
    "#Creating Document-Term Matrix\n",
    "#The words are replaced with their ids.\n",
    "#The corpus contains the word id and the frequency of the word in each document\n",
    "corpus = [dictionary.doc2bow(gen_doc) for gen_doc in gen_docs]"
   ]
  },
  {
   "cell_type": "code",
   "execution_count": 2,
   "metadata": {},
   "outputs": [],
   "source": [
    "# Show the Word Weights in Corpus\n",
    "#for doc in corpus:\n",
    "    #print([[dictionary[id], freq] for id, freq in doc])"
   ]
  },
  {
   "cell_type": "code",
   "execution_count": 197,
   "metadata": {},
   "outputs": [],
   "source": [
    "#Create TF-IDF Model\n",
    "tfidf = gensim.models.TfidfModel(corpus)"
   ]
  },
  {
   "cell_type": "code",
   "execution_count": 1,
   "metadata": {},
   "outputs": [],
   "source": [
    "# Show the TF-IDF weights\n",
    "#for doc in tfidf[corpus]:\n",
    "   # print([[dictionary[id], np.around(freq, decimals=2)] for id, freq in doc])\n",
    "#words that occur more frequently across the documents get smaller weights.    "
   ]
  },
  {
   "cell_type": "code",
   "execution_count": 201,
   "metadata": {},
   "outputs": [],
   "source": [
    "#Creating Similarity Checker\n",
    "similarquestions = gensim.similarities.Similarity(\"\",tfidf[corpus],num_features=len(dictionary))"
   ]
  },
  {
   "cell_type": "code",
   "execution_count": 202,
   "metadata": {},
   "outputs": [
    {
     "data": {
      "text/plain": [
       "<gensim.similarities.docsim.Similarity at 0x1c058652088>"
      ]
     },
     "execution_count": 202,
     "metadata": {},
     "output_type": "execute_result"
    }
   ],
   "source": [
    "similarquestions"
   ]
  },
  {
   "cell_type": "code",
   "execution_count": 326,
   "metadata": {},
   "outputs": [
    {
     "data": {
      "text/plain": [
       "'What is the best way to finance a law degree?. #law #law-practice #law-school'"
      ]
     },
     "execution_count": 326,
     "metadata": {},
     "output_type": "execute_result"
    }
   ],
   "source": [
    "#Taking a question which is included in the training set \n",
    "Query='What is the best way to finance a law degree?. #law #law-practice #law-school'\n",
    "Query"
   ]
  },
  {
   "cell_type": "code",
   "execution_count": 327,
   "metadata": {},
   "outputs": [],
   "source": [
    "query_dict = [w.lower() for w in word_tokenize(Query)]\n",
    "query_corpus = dictionary.doc2bow(query_dict)\n",
    "query_tfidf = tfidf[query_corpus]"
   ]
  },
  {
   "cell_type": "code",
   "execution_count": 329,
   "metadata": {},
   "outputs": [],
   "source": [
    "query_similar = similarquestions[query_tfidf]"
   ]
  },
  {
   "cell_type": "code",
   "execution_count": 330,
   "metadata": {},
   "outputs": [
    {
     "data": {
      "text/plain": [
       "array([0.00606094, 0.00310916, 0.00242189, ..., 0.00219751, 0.2111287 ,\n",
       "       0.0130461 ], dtype=float32)"
      ]
     },
     "execution_count": 330,
     "metadata": {},
     "output_type": "execute_result"
    }
   ],
   "source": [
    "query_similar"
   ]
  },
  {
   "cell_type": "code",
   "execution_count": 294,
   "metadata": {},
   "outputs": [],
   "source": [
    "similaritythreshold = 0.10"
   ]
  },
  {
   "cell_type": "code",
   "execution_count": 331,
   "metadata": {},
   "outputs": [],
   "source": [
    "#Displaying the most similar questions from past\n",
    "questions_tags[\"Similarity\"] = query_similar\n",
    "ques = questions_tags[questions_tags[\"Similarity\"]>= similaritythreshold]\n",
    "ques = ques.sort_values(\"Similarity\",ascending = False)"
   ]
  },
  {
   "cell_type": "code",
   "execution_count": 358,
   "metadata": {},
   "outputs": [
    {
     "data": {
      "text/html": [
       "<div>\n",
       "<style scoped>\n",
       "    .dataframe tbody tr th:only-of-type {\n",
       "        vertical-align: middle;\n",
       "    }\n",
       "\n",
       "    .dataframe tbody tr th {\n",
       "        vertical-align: top;\n",
       "    }\n",
       "\n",
       "    .dataframe thead th {\n",
       "        text-align: right;\n",
       "    }\n",
       "</style>\n",
       "<table border=\"1\" class=\"dataframe\">\n",
       "  <thead>\n",
       "    <tr style=\"text-align: right;\">\n",
       "      <th></th>\n",
       "      <th>questions_id</th>\n",
       "      <th>students_id</th>\n",
       "      <th>questions_date_added</th>\n",
       "      <th>questions_title</th>\n",
       "      <th>questions_body</th>\n",
       "      <th>year</th>\n",
       "      <th>questions_first_answers</th>\n",
       "      <th>timestamp</th>\n",
       "      <th>month</th>\n",
       "      <th>tag_name</th>\n",
       "      <th>Similarity</th>\n",
       "    </tr>\n",
       "  </thead>\n",
       "  <tbody>\n",
       "    <tr>\n",
       "      <td>7387</td>\n",
       "      <td>67b6b1157a534cbfb4d2eba404a39788</td>\n",
       "      <td>8d08d1b5899042989248fa90b1dcd823</td>\n",
       "      <td>2018-03-20 18:17:13+00:00</td>\n",
       "      <td>What is the best way to finance a law degree?</td>\n",
       "      <td>if I decide to go to Law School.\\r\\n#law #law-school #law-practice</td>\n",
       "      <td>2018</td>\n",
       "      <td>2018-04-16 01:34:05+00:00</td>\n",
       "      <td>2018-03-20 18:17:13</td>\n",
       "      <td>2018-03</td>\n",
       "      <td>law law-practice law-school</td>\n",
       "      <td>0.954100</td>\n",
       "    </tr>\n",
       "    <tr>\n",
       "      <td>1443</td>\n",
       "      <td>f40dc76a7a5844f3bc71da9f391688e6</td>\n",
       "      <td>da465f7336314ca89802ccfe6059bef9</td>\n",
       "      <td>2018-07-13 19:46:08+00:00</td>\n",
       "      <td>what is law school like an how does it work?</td>\n",
       "      <td>do you go to regular college an then law school or just law school ? #law-practice</td>\n",
       "      <td>2018</td>\n",
       "      <td>2018-07-14 03:05:14+00:00</td>\n",
       "      <td>2018-07-13 19:46:08</td>\n",
       "      <td>2018-07</td>\n",
       "      <td>law-practice</td>\n",
       "      <td>0.655246</td>\n",
       "    </tr>\n",
       "    <tr>\n",
       "      <td>10232</td>\n",
       "      <td>360ca20467f9477791d71082670b3506</td>\n",
       "      <td>a321c16494714ee9964a24c5a66b9b33</td>\n",
       "      <td>2018-07-16 20:46:15+00:00</td>\n",
       "      <td>Do you need a law degree to become a lawyer?</td>\n",
       "      <td>#lawyer #law #law-practice #degree #major</td>\n",
       "      <td>2018</td>\n",
       "      <td>2018-07-17 01:08:05+00:00</td>\n",
       "      <td>2018-07-16 20:46:15</td>\n",
       "      <td>2018-07</td>\n",
       "      <td>lawyer law degree major law-practice</td>\n",
       "      <td>0.626301</td>\n",
       "    </tr>\n",
       "    <tr>\n",
       "      <td>9582</td>\n",
       "      <td>12e1fdb2a2994e978ea00c61b9dc0ab5</td>\n",
       "      <td>9ecea03af91f42749353c7026d3d8c7c</td>\n",
       "      <td>2018-08-27 16:03:29+00:00</td>\n",
       "      <td>How long will I be paying off my college debt if I go for an undergrad and law school?</td>\n",
       "      <td>#law #law-school #law-school</td>\n",
       "      <td>2018</td>\n",
       "      <td>2018-09-04 22:28:56+00:00</td>\n",
       "      <td>2018-08-27 16:03:29</td>\n",
       "      <td>2018-08</td>\n",
       "      <td>law law-school</td>\n",
       "      <td>0.600466</td>\n",
       "    </tr>\n",
       "    <tr>\n",
       "      <td>18116</td>\n",
       "      <td>d5d76a1d44734cd08d629fa9b686a0d2</td>\n",
       "      <td>5851eaf461fa4794b756cd771d724ea6</td>\n",
       "      <td>2017-09-01 00:57:21+00:00</td>\n",
       "      <td>What would be the best major for me if I wanted to go to law school?</td>\n",
       "      <td>I want to go to law school, and I want the best chance at getting in #law-school</td>\n",
       "      <td>2017</td>\n",
       "      <td>2017-09-11 13:43:15+00:00</td>\n",
       "      <td>2017-09-01 00:57:21</td>\n",
       "      <td>2017-09</td>\n",
       "      <td>law-school</td>\n",
       "      <td>0.579862</td>\n",
       "    </tr>\n",
       "  </tbody>\n",
       "</table>\n",
       "</div>"
      ],
      "text/plain": [
       "                           questions_id                       students_id  \\\n",
       "7387   67b6b1157a534cbfb4d2eba404a39788  8d08d1b5899042989248fa90b1dcd823   \n",
       "1443   f40dc76a7a5844f3bc71da9f391688e6  da465f7336314ca89802ccfe6059bef9   \n",
       "10232  360ca20467f9477791d71082670b3506  a321c16494714ee9964a24c5a66b9b33   \n",
       "9582   12e1fdb2a2994e978ea00c61b9dc0ab5  9ecea03af91f42749353c7026d3d8c7c   \n",
       "18116  d5d76a1d44734cd08d629fa9b686a0d2  5851eaf461fa4794b756cd771d724ea6   \n",
       "\n",
       "           questions_date_added  \\\n",
       "7387  2018-03-20 18:17:13+00:00   \n",
       "1443  2018-07-13 19:46:08+00:00   \n",
       "10232 2018-07-16 20:46:15+00:00   \n",
       "9582  2018-08-27 16:03:29+00:00   \n",
       "18116 2017-09-01 00:57:21+00:00   \n",
       "\n",
       "                                                                              questions_title  \\\n",
       "7387   What is the best way to finance a law degree?                                            \n",
       "1443   what is law school like an how does it work?                                             \n",
       "10232  Do you need a law degree to become a lawyer?                                             \n",
       "9582   How long will I be paying off my college debt if I go for an undergrad and law school?   \n",
       "18116  What would be the best major for me if I wanted to go to law school?                     \n",
       "\n",
       "                                                                            questions_body  \\\n",
       "7387   if I decide to go to Law School.\\r\\n#law #law-school #law-practice                    \n",
       "1443   do you go to regular college an then law school or just law school ? #law-practice    \n",
       "10232  #lawyer #law #law-practice #degree #major                                             \n",
       "9582   #law #law-school #law-school                                                          \n",
       "18116  I want to go to law school, and I want the best chance at getting in #law-school      \n",
       "\n",
       "       year   questions_first_answers           timestamp    month  \\\n",
       "7387   2018 2018-04-16 01:34:05+00:00 2018-03-20 18:17:13  2018-03   \n",
       "1443   2018 2018-07-14 03:05:14+00:00 2018-07-13 19:46:08  2018-07   \n",
       "10232  2018 2018-07-17 01:08:05+00:00 2018-07-16 20:46:15  2018-07   \n",
       "9582   2018 2018-09-04 22:28:56+00:00 2018-08-27 16:03:29  2018-08   \n",
       "18116  2017 2017-09-11 13:43:15+00:00 2017-09-01 00:57:21  2017-09   \n",
       "\n",
       "                                   tag_name  Similarity  \n",
       "7387   law law-practice law-school           0.954100    \n",
       "1443   law-practice                          0.655246    \n",
       "10232  lawyer law degree major law-practice  0.626301    \n",
       "9582   law law-school                        0.600466    \n",
       "18116  law-school                            0.579862    "
      ]
     },
     "execution_count": 358,
     "metadata": {},
     "output_type": "execute_result"
    }
   ],
   "source": [
    "ques.head()"
   ]
  },
  {
   "cell_type": "code",
   "execution_count": 220,
   "metadata": {},
   "outputs": [],
   "source": [
    "#Identify Professionals who answered These questions\n",
    "questionslist = ques[\"questions_id\"]\n",
    "questionslist_answers = answers[answers[\"questions_id\"].isin(questionslist)]\n",
    "#professionals who answered\n",
    "answeredprofessionals = set(questionslist_answers[\"professionals_id\"])"
   ]
  },
  {
   "cell_type": "code",
   "execution_count": 224,
   "metadata": {},
   "outputs": [],
   "source": [
    "solution = professionals[professionals[\"professionals_id\"].isin(answeredprofessionals)]"
   ]
  },
  {
   "cell_type": "code",
   "execution_count": 225,
   "metadata": {},
   "outputs": [
    {
     "data": {
      "text/html": [
       "<div>\n",
       "<style scoped>\n",
       "    .dataframe tbody tr th:only-of-type {\n",
       "        vertical-align: middle;\n",
       "    }\n",
       "\n",
       "    .dataframe tbody tr th {\n",
       "        vertical-align: top;\n",
       "    }\n",
       "\n",
       "    .dataframe thead th {\n",
       "        text-align: right;\n",
       "    }\n",
       "</style>\n",
       "<table border=\"1\" class=\"dataframe\">\n",
       "  <thead>\n",
       "    <tr style=\"text-align: right;\">\n",
       "      <th></th>\n",
       "      <th>professionals_id</th>\n",
       "      <th>professionals_location</th>\n",
       "      <th>professionals_industry</th>\n",
       "      <th>professionals_headline</th>\n",
       "      <th>professionals_date_joined</th>\n",
       "    </tr>\n",
       "  </thead>\n",
       "  <tbody>\n",
       "    <tr>\n",
       "      <td>11</td>\n",
       "      <td>7daf1e6dfb3443b99b240890f0a4d69b</td>\n",
       "      <td>NaN</td>\n",
       "      <td>NaN</td>\n",
       "      <td>NaN</td>\n",
       "      <td>2011-12-26 05:00:00 UTC+0000</td>\n",
       "    </tr>\n",
       "    <tr>\n",
       "      <td>28</td>\n",
       "      <td>8e75aca48b434c79b8b4729ef871cb50</td>\n",
       "      <td>Boston, Massachusetts</td>\n",
       "      <td>NaN</td>\n",
       "      <td>NaN</td>\n",
       "      <td>2011-12-26 05:00:00 UTC+0000</td>\n",
       "    </tr>\n",
       "    <tr>\n",
       "      <td>49</td>\n",
       "      <td>8fa038d69f5647a091c766bf460d2616</td>\n",
       "      <td>NaN</td>\n",
       "      <td>NaN</td>\n",
       "      <td>NaN</td>\n",
       "      <td>2011-12-26 05:00:00 UTC+0000</td>\n",
       "    </tr>\n",
       "    <tr>\n",
       "      <td>206</td>\n",
       "      <td>29066f5ff3504a91bb7bb304ae6890cb</td>\n",
       "      <td>NaN</td>\n",
       "      <td>NaN</td>\n",
       "      <td>NaN</td>\n",
       "      <td>2012-09-09 04:51:58 UTC+0000</td>\n",
       "    </tr>\n",
       "  </tbody>\n",
       "</table>\n",
       "</div>"
      ],
      "text/plain": [
       "                     professionals_id professionals_location  \\\n",
       "11   7daf1e6dfb3443b99b240890f0a4d69b  NaN                     \n",
       "28   8e75aca48b434c79b8b4729ef871cb50  Boston, Massachusetts   \n",
       "49   8fa038d69f5647a091c766bf460d2616  NaN                     \n",
       "206  29066f5ff3504a91bb7bb304ae6890cb  NaN                     \n",
       "\n",
       "    professionals_industry professionals_headline  \\\n",
       "11   NaN                    NaN                     \n",
       "28   NaN                    NaN                     \n",
       "49   NaN                    NaN                     \n",
       "206  NaN                    NaN                     \n",
       "\n",
       "        professionals_date_joined  \n",
       "11   2011-12-26 05:00:00 UTC+0000  \n",
       "28   2011-12-26 05:00:00 UTC+0000  \n",
       "49   2011-12-26 05:00:00 UTC+0000  \n",
       "206  2012-09-09 04:51:58 UTC+0000  "
      ]
     },
     "execution_count": 225,
     "metadata": {},
     "output_type": "execute_result"
    }
   ],
   "source": [
    "solution.head(4)"
   ]
  },
  {
   "cell_type": "markdown",
   "metadata": {},
   "source": [
    "Model 2"
   ]
  },
  {
   "cell_type": "code",
   "execution_count": 341,
   "metadata": {},
   "outputs": [
    {
     "data": {
      "text/html": [
       "<div>\n",
       "<style scoped>\n",
       "    .dataframe tbody tr th:only-of-type {\n",
       "        vertical-align: middle;\n",
       "    }\n",
       "\n",
       "    .dataframe tbody tr th {\n",
       "        vertical-align: top;\n",
       "    }\n",
       "\n",
       "    .dataframe thead th {\n",
       "        text-align: right;\n",
       "    }\n",
       "</style>\n",
       "<table border=\"1\" class=\"dataframe\">\n",
       "  <thead>\n",
       "    <tr style=\"text-align: right;\">\n",
       "      <th></th>\n",
       "      <th>user_id</th>\n",
       "      <th>tag_name</th>\n",
       "    </tr>\n",
       "  </thead>\n",
       "  <tbody>\n",
       "    <tr>\n",
       "      <td>15231</td>\n",
       "      <td>00009a0f9bda43eba47104e9ac62aff5</td>\n",
       "      <td>digital-media</td>\n",
       "    </tr>\n",
       "    <tr>\n",
       "      <td>113935</td>\n",
       "      <td>00009a0f9bda43eba47104e9ac62aff5</td>\n",
       "      <td>content-creation</td>\n",
       "    </tr>\n",
       "    <tr>\n",
       "      <td>109389</td>\n",
       "      <td>00009a0f9bda43eba47104e9ac62aff5</td>\n",
       "      <td>script-writing</td>\n",
       "    </tr>\n",
       "    <tr>\n",
       "      <td>4982</td>\n",
       "      <td>000196ef8db54b9a86ae70ad31745d04</td>\n",
       "      <td>accounting</td>\n",
       "    </tr>\n",
       "    <tr>\n",
       "      <td>54407</td>\n",
       "      <td>0008138be908438e8944b21f7f57f2c1</td>\n",
       "      <td>real-estate</td>\n",
       "    </tr>\n",
       "    <tr>\n",
       "      <td>18163</td>\n",
       "      <td>000d4635e5da41e3bfd83677ee11dda4</td>\n",
       "      <td>college</td>\n",
       "    </tr>\n",
       "    <tr>\n",
       "      <td>82628</td>\n",
       "      <td>000d4635e5da41e3bfd83677ee11dda4</td>\n",
       "      <td>information-technology</td>\n",
       "    </tr>\n",
       "    <tr>\n",
       "      <td>50407</td>\n",
       "      <td>000d4635e5da41e3bfd83677ee11dda4</td>\n",
       "      <td>university</td>\n",
       "    </tr>\n",
       "    <tr>\n",
       "      <td>30335</td>\n",
       "      <td>000e2b5714444d79a672bf927905135c</td>\n",
       "      <td>financial-services</td>\n",
       "    </tr>\n",
       "    <tr>\n",
       "      <td>30412</td>\n",
       "      <td>0018873fbf7742aba1bf13fff12cbfa4</td>\n",
       "      <td>financial-services</td>\n",
       "    </tr>\n",
       "  </tbody>\n",
       "</table>\n",
       "</div>"
      ],
      "text/plain": [
       "                                 user_id                tag_name\n",
       "15231   00009a0f9bda43eba47104e9ac62aff5  digital-media         \n",
       "113935  00009a0f9bda43eba47104e9ac62aff5  content-creation      \n",
       "109389  00009a0f9bda43eba47104e9ac62aff5  script-writing        \n",
       "4982    000196ef8db54b9a86ae70ad31745d04  accounting            \n",
       "54407   0008138be908438e8944b21f7f57f2c1  real-estate           \n",
       "18163   000d4635e5da41e3bfd83677ee11dda4  college               \n",
       "82628   000d4635e5da41e3bfd83677ee11dda4  information-technology\n",
       "50407   000d4635e5da41e3bfd83677ee11dda4  university            \n",
       "30335   000e2b5714444d79a672bf927905135c  financial-services    \n",
       "30412   0018873fbf7742aba1bf13fff12cbfa4  financial-services    "
      ]
     },
     "execution_count": 341,
     "metadata": {},
     "output_type": "execute_result"
    }
   ],
   "source": [
    "#Identify Professionals with tags most similar to the questions asked.\n",
    "user_tags = pd.merge(tag_users,tags)\n",
    "user_tags = user_tags.drop([\"tags_id\"],axis = 1)\n",
    "user_tags.sort_values(\"user_id\")[:10]"
   ]
  },
  {
   "cell_type": "code",
   "execution_count": 344,
   "metadata": {
    "scrolled": true
   },
   "outputs": [
    {
     "name": "stdout",
     "output_type": "stream",
     "text": [
      "Number of all users with tags: 30202\n"
     ]
    },
    {
     "data": {
      "text/html": [
       "<div>\n",
       "<style scoped>\n",
       "    .dataframe tbody tr th:only-of-type {\n",
       "        vertical-align: middle;\n",
       "    }\n",
       "\n",
       "    .dataframe tbody tr th {\n",
       "        vertical-align: top;\n",
       "    }\n",
       "\n",
       "    .dataframe thead th {\n",
       "        text-align: right;\n",
       "    }\n",
       "</style>\n",
       "<table border=\"1\" class=\"dataframe\">\n",
       "  <thead>\n",
       "    <tr style=\"text-align: right;\">\n",
       "      <th></th>\n",
       "      <th>tag_name</th>\n",
       "      <th>user_id</th>\n",
       "    </tr>\n",
       "  </thead>\n",
       "  <tbody>\n",
       "    <tr>\n",
       "      <td>0</td>\n",
       "      <td>digital-media script-writing content-creation</td>\n",
       "      <td>00009a0f9bda43eba47104e9ac62aff5</td>\n",
       "    </tr>\n",
       "    <tr>\n",
       "      <td>1</td>\n",
       "      <td>accounting</td>\n",
       "      <td>000196ef8db54b9a86ae70ad31745d04</td>\n",
       "    </tr>\n",
       "    <tr>\n",
       "      <td>2</td>\n",
       "      <td>real-estate</td>\n",
       "      <td>0008138be908438e8944b21f7f57f2c1</td>\n",
       "    </tr>\n",
       "    <tr>\n",
       "      <td>3</td>\n",
       "      <td>college university information-technology</td>\n",
       "      <td>000d4635e5da41e3bfd83677ee11dda4</td>\n",
       "    </tr>\n",
       "    <tr>\n",
       "      <td>4</td>\n",
       "      <td>financial-services</td>\n",
       "      <td>000e2b5714444d79a672bf927905135c</td>\n",
       "    </tr>\n",
       "  </tbody>\n",
       "</table>\n",
       "</div>"
      ],
      "text/plain": [
       "                                        tag_name  \\\n",
       "0  digital-media script-writing content-creation   \n",
       "1  accounting                                      \n",
       "2  real-estate                                     \n",
       "3  college university information-technology       \n",
       "4  financial-services                              \n",
       "\n",
       "                            user_id  \n",
       "0  00009a0f9bda43eba47104e9ac62aff5  \n",
       "1  000196ef8db54b9a86ae70ad31745d04  \n",
       "2  0008138be908438e8944b21f7f57f2c1  \n",
       "3  000d4635e5da41e3bfd83677ee11dda4  \n",
       "4  000e2b5714444d79a672bf927905135c  "
      ]
     },
     "execution_count": 344,
     "metadata": {},
     "output_type": "execute_result"
    }
   ],
   "source": [
    "#The first user has 3 tags.This means that one user can have many tags \n",
    "#Concatenate all tags of a user to form a tag-string\n",
    "tag_pivot = user_tags.pivot_table(values = \"tag_name\",index=\"user_id\",aggfunc = lambda x : \" \".join(x))\n",
    "tag_pivot[\"user_id\"] = tag_pivot.index\n",
    "print(\"Number of all users with tags:\",len(tag_pivot))\n",
    "tag_pivot=tag_pivot.reset_index(drop=True)\n",
    "tag_pivot.head()"
   ]
  },
  {
   "cell_type": "code",
   "execution_count": 347,
   "metadata": {},
   "outputs": [
    {
     "name": "stdout",
     "output_type": "stream",
     "text": [
      "Number of professionals with tags: 25594\n"
     ]
    }
   ],
   "source": [
    "#Filtering only the professionals from all the users\n",
    "prof_tags= tag_pivot[tag_pivot['user_id'].isin(professionals['professionals_id'])]\n",
    "print(\"Number of professionals with tags:\",len(prof_tags))\n",
    "raw_tags = prof_tags[\"tag_name\"]"
   ]
  },
  {
   "cell_type": "code",
   "execution_count": 349,
   "metadata": {},
   "outputs": [],
   "source": [
    "#TextProcessing\n",
    "gen_docs = [[w.lower() for w in word_tokenize(text)] for text in raw_tags]\n",
    "#Creating Dictionary\n",
    "dictionary = gensim.corpora.Dictionary(gen_docs)\n",
    "#print(dictionary)\n",
    "#To see the unique ids \n",
    "#print(dictionary.token2id)\n",
    "#Creating Document-Term Matrix\n",
    "#The words are replaced with their ids.\n",
    "#The corpus contains the word id and the frequency of the word in each document\n",
    "corpus = [dictionary.doc2bow(gen_doc) for gen_doc in gen_docs]"
   ]
  },
  {
   "cell_type": "code",
   "execution_count": 350,
   "metadata": {},
   "outputs": [],
   "source": [
    "tf_idf = gensim.models.TfidfModel(corpus)\n",
    "sims = gensim.similarities.Similarity(\"\",tf_idf[corpus],num_features=len(dictionary))"
   ]
  },
  {
   "cell_type": "code",
   "execution_count": 354,
   "metadata": {},
   "outputs": [],
   "source": [
    "#For the same query\n",
    "query_doc = [w.lower() for w in word_tokenize(Query)]\n",
    "query_doc_bow = dictionary.doc2bow(query_doc)\n",
    "query_doc_tf_idf = tf_idf[query_doc_bow]\n"
   ]
  },
  {
   "cell_type": "code",
   "execution_count": 355,
   "metadata": {},
   "outputs": [],
   "source": [
    "sim=sims[query_doc_tf_idf]"
   ]
  },
  {
   "cell_type": "code",
   "execution_count": 356,
   "metadata": {},
   "outputs": [
    {
     "name": "stderr",
     "output_type": "stream",
     "text": [
      "C:\\Users\\meril\\Anaconda3\\lib\\site-packages\\ipykernel_launcher.py:1: SettingWithCopyWarning: \n",
      "A value is trying to be set on a copy of a slice from a DataFrame.\n",
      "Try using .loc[row_indexer,col_indexer] = value instead\n",
      "\n",
      "See the caveats in the documentation: http://pandas.pydata.org/pandas-docs/stable/user_guide/indexing.html#returning-a-view-versus-a-copy\n",
      "  \"\"\"Entry point for launching an IPython kernel.\n"
     ]
    },
    {
     "data": {
      "text/html": [
       "<div>\n",
       "<style scoped>\n",
       "    .dataframe tbody tr th:only-of-type {\n",
       "        vertical-align: middle;\n",
       "    }\n",
       "\n",
       "    .dataframe tbody tr th {\n",
       "        vertical-align: top;\n",
       "    }\n",
       "\n",
       "    .dataframe thead th {\n",
       "        text-align: right;\n",
       "    }\n",
       "</style>\n",
       "<table border=\"1\" class=\"dataframe\">\n",
       "  <thead>\n",
       "    <tr style=\"text-align: right;\">\n",
       "      <th></th>\n",
       "      <th>tag_name</th>\n",
       "      <th>user_id</th>\n",
       "      <th>sim</th>\n",
       "    </tr>\n",
       "  </thead>\n",
       "  <tbody>\n",
       "    <tr>\n",
       "      <td>16021</td>\n",
       "      <td>law law-school law-practice</td>\n",
       "      <td>895b1656666d41768548609bc7ee4e3f</td>\n",
       "      <td>0.441358</td>\n",
       "    </tr>\n",
       "    <tr>\n",
       "      <td>15650</td>\n",
       "      <td>law law-school law-practice</td>\n",
       "      <td>86128190605c4166a9cc898051ab0fe1</td>\n",
       "      <td>0.441358</td>\n",
       "    </tr>\n",
       "    <tr>\n",
       "      <td>21069</td>\n",
       "      <td>law law-school law-practice</td>\n",
       "      <td>b3db686333aa40b58a53f7453f37436d</td>\n",
       "      <td>0.441358</td>\n",
       "    </tr>\n",
       "    <tr>\n",
       "      <td>19050</td>\n",
       "      <td>law</td>\n",
       "      <td>a29a00819ec8466c94c7d8c9137a129b</td>\n",
       "      <td>0.365144</td>\n",
       "    </tr>\n",
       "    <tr>\n",
       "      <td>22692</td>\n",
       "      <td>law</td>\n",
       "      <td>c16ee388eb1c4d05a21b1e25b064b787</td>\n",
       "      <td>0.365144</td>\n",
       "    </tr>\n",
       "  </tbody>\n",
       "</table>\n",
       "</div>"
      ],
      "text/plain": [
       "                          tag_name                           user_id       sim\n",
       "16021  law law-school law-practice  895b1656666d41768548609bc7ee4e3f  0.441358\n",
       "15650  law law-school law-practice  86128190605c4166a9cc898051ab0fe1  0.441358\n",
       "21069  law law-school law-practice  b3db686333aa40b58a53f7453f37436d  0.441358\n",
       "19050  law                          a29a00819ec8466c94c7d8c9137a129b  0.365144\n",
       "22692  law                          c16ee388eb1c4d05a21b1e25b064b787  0.365144"
      ]
     },
     "execution_count": 356,
     "metadata": {},
     "output_type": "execute_result"
    }
   ],
   "source": [
    "prof_tags['sim']=sim\n",
    "prof_tag=prof_tags[prof_tags['sim']>=0.10]\n",
    "prof_tag=prof_tag.sort_values('sim',ascending=False)\n",
    "prof_tag.head()"
   ]
  },
  {
   "cell_type": "code",
   "execution_count": null,
   "metadata": {},
   "outputs": [],
   "source": []
  }
 ],
 "metadata": {
  "kernelspec": {
   "display_name": "Python 3",
   "language": "python",
   "name": "python3"
  },
  "language_info": {
   "codemirror_mode": {
    "name": "ipython",
    "version": 3
   },
   "file_extension": ".py",
   "mimetype": "text/x-python",
   "name": "python",
   "nbconvert_exporter": "python",
   "pygments_lexer": "ipython3",
   "version": "3.7.4"
  }
 },
 "nbformat": 4,
 "nbformat_minor": 2
}
